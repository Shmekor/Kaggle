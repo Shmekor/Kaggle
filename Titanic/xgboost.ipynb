{
 "metadata": {
  "name": "",
  "signature": "sha256:447871771ad1995d3f9c4ba9dc43eb5b7011f224bb634e28fa9f97a590d8e3ac"
 },
 "nbformat": 3,
 "nbformat_minor": 0,
 "worksheets": [
  {
   "cells": [
    {
     "cell_type": "code",
     "collapsed": false,
     "input": [
      "import sys\n",
      "sys.path.append('/Users/konstantingatilin/Documents/Workspace/Libs/Python/xgboost/python')\n",
      "import xgboost as xgb\n",
      "import numpy as np\n",
      "import pandas as pnd\n",
      "from sklearn import cross_validation as cv\n",
      "import math\n",
      "from sklearn.metrics import confusion_matrix as cm"
     ],
     "language": "python",
     "metadata": {},
     "outputs": [
      {
       "output_type": "stream",
       "stream": "stderr",
       "text": [
        "/Library/Frameworks/Python.framework/Versions/3.4/lib/python3.4/importlib/_bootstrap.py:321: RuntimeWarning: numpy.ufunc size changed, may indicate binary incompatibility\n",
        "  return f(*args, **kwds)\n"
       ]
      }
     ],
     "prompt_number": 1
    },
    {
     "cell_type": "code",
     "collapsed": false,
     "input": [
      "trainDS = pnd.read_csv('train.csv')"
     ],
     "language": "python",
     "metadata": {},
     "outputs": [],
     "prompt_number": 2
    },
    {
     "cell_type": "code",
     "collapsed": false,
     "input": [
      "trainDS.Sex = trainDS.Sex.map({'female': 0, 'male': 1})\n",
      "trainDS.info()"
     ],
     "language": "python",
     "metadata": {},
     "outputs": [
      {
       "output_type": "stream",
       "stream": "stdout",
       "text": [
        "<class 'pandas.core.frame.DataFrame'>\n",
        "Int64Index: 891 entries, 0 to 890\n",
        "Data columns (total 12 columns):\n",
        "PassengerId    891 non-null int64\n",
        "Survived       891 non-null int64\n",
        "Pclass         891 non-null int64\n",
        "Name           891 non-null object\n",
        "Sex            891 non-null int64\n",
        "Age            714 non-null float64\n",
        "SibSp          891 non-null int64\n",
        "Parch          891 non-null int64\n",
        "Ticket         891 non-null object\n",
        "Fare           891 non-null float64\n",
        "Cabin          204 non-null object\n",
        "Embarked       889 non-null object\n",
        "dtypes: float64(2), int64(6), object(4)"
       ]
      }
     ],
     "prompt_number": 3
    },
    {
     "cell_type": "code",
     "collapsed": false,
     "input": [
      "ageMed = trainDS.Age.median()\n",
      "\n",
      "trainDS['Age'] = trainDS['Age'].fillna(ageMed)"
     ],
     "language": "python",
     "metadata": {},
     "outputs": [],
     "prompt_number": 4
    },
    {
     "cell_type": "code",
     "collapsed": false,
     "input": [
      "trainDS['Weight'] = 1\n",
      "trainDS.ix[(trainDS.Sex == 1) & (trainDS.Pclass == 1), 'Weight'] = 0"
     ],
     "language": "python",
     "metadata": {},
     "outputs": [],
     "prompt_number": 33
    },
    {
     "cell_type": "code",
     "collapsed": false,
     "input": [
      "trainFeatures = trainDS.drop(['PassengerId', 'Name', 'Ticket', 'Cabin', 'Embarked'], axis=1)"
     ],
     "language": "python",
     "metadata": {},
     "outputs": [],
     "prompt_number": 34
    },
    {
     "cell_type": "code",
     "collapsed": false,
     "input": [
      "ftTrain, ftCV = cv.train_test_split(trainFeatures, test_size=0.25)"
     ],
     "language": "python",
     "metadata": {},
     "outputs": [],
     "prompt_number": 35
    },
    {
     "cell_type": "code",
     "collapsed": false,
     "input": [
      "dmTrain = xgb.DMatrix( ftTrain[:,1:], label=ftTrain[:,0], weight=ftTrain[:,7])\n",
      "dmCV = xgb.DMatrix( ftCV[:,1:], label=ftCV[:,0], weight=ftCV[:,7])"
     ],
     "language": "python",
     "metadata": {},
     "outputs": [],
     "prompt_number": 36
    },
    {
     "cell_type": "code",
     "collapsed": false,
     "input": [
      "# setup parameters for xgboost\n",
      "param = {}\n",
      "param['objective'] = 'binary:logistic'\n",
      "param['bst:eta'] = 0.1 \n",
      "param['bst:max_depth'] = 6\n",
      "param['eval_metric'] = 'error'\n",
      "param['silent'] = 1\n",
      "param['nthread'] = 4\n",
      "plst = list(param.items())#+[('eval_metric', 'error')]"
     ],
     "language": "python",
     "metadata": {},
     "outputs": [],
     "prompt_number": 37
    },
    {
     "cell_type": "code",
     "collapsed": false,
     "input": [
      "watchlist = [ (dmTrain,'train'), (dmCV,'eval') ]\n",
      "numRound = 500\n",
      "bst = xgb.train( plst, dmTrain, numRound, watchlist );"
     ],
     "language": "python",
     "metadata": {},
     "outputs": [],
     "prompt_number": 46
    },
    {
     "cell_type": "code",
     "collapsed": false,
     "input": [
      "predCV = bst.predict(dmCV)"
     ],
     "language": "python",
     "metadata": {},
     "outputs": [],
     "prompt_number": 47
    },
    {
     "cell_type": "code",
     "collapsed": false,
     "input": [
      "cmCV = cm(ftCV[:,0], np.round(predCV))"
     ],
     "language": "python",
     "metadata": {},
     "outputs": [],
     "prompt_number": 48
    },
    {
     "cell_type": "code",
     "collapsed": false,
     "input": [
      "cmCV"
     ],
     "language": "python",
     "metadata": {},
     "outputs": [
      {
       "metadata": {},
       "output_type": "pyout",
       "prompt_number": 49,
       "text": [
        "array([[123,   9],\n",
        "       [ 32,  59]])"
       ]
      }
     ],
     "prompt_number": 49
    },
    {
     "cell_type": "code",
     "collapsed": false,
     "input": [
      "kaggleDS = pnd.read_csv('test.csv')"
     ],
     "language": "python",
     "metadata": {},
     "outputs": [],
     "prompt_number": 49
    },
    {
     "cell_type": "code",
     "collapsed": false,
     "input": [
      "kaggleDS.Sex = kaggleDS.Sex.map({'female': 0, 'male': 1})\n",
      "ageMed = kaggleDS.Age.median()\n",
      "\n",
      "kaggleDS['Age'] = kaggleDS['Age'].fillna(ageMed)"
     ],
     "language": "python",
     "metadata": {},
     "outputs": [],
     "prompt_number": 50
    },
    {
     "cell_type": "code",
     "collapsed": false,
     "input": [
      "dmKaggle = xgb.DMatrix(kaggleDS.drop(['PassengerId', 'Name', 'Ticket', 'Cabin', 'Embarked'], axis=1).values)"
     ],
     "language": "python",
     "metadata": {},
     "outputs": [],
     "prompt_number": 51
    },
    {
     "cell_type": "code",
     "collapsed": false,
     "input": [
      "predKaggle = bst.predict(dmKaggle)"
     ],
     "language": "python",
     "metadata": {},
     "outputs": [],
     "prompt_number": 140
    },
    {
     "cell_type": "code",
     "collapsed": false,
     "input": [
      "res = pnd.DataFrame()\n",
      "res['PassengerId'] = kaggleDS.PassengerId\n",
      "res['Survived'] = np.round(predKaggle).astype(int)"
     ],
     "language": "python",
     "metadata": {},
     "outputs": [],
     "prompt_number": 141
    },
    {
     "cell_type": "code",
     "collapsed": false,
     "input": [
      "res.to_csv('xgSubmit.csv', index=False)"
     ],
     "language": "python",
     "metadata": {},
     "outputs": [],
     "prompt_number": 142
    },
    {
     "cell_type": "code",
     "collapsed": false,
     "input": [],
     "language": "python",
     "metadata": {},
     "outputs": []
    }
   ],
   "metadata": {}
  }
 ]
}