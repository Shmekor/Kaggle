{
 "metadata": {
  "name": "",
  "signature": "sha256:efd4652dfca19fa9179f2e7a36a2de7e72f5de88108d57de127b95792de7b8cf"
 },
 "nbformat": 3,
 "nbformat_minor": 0,
 "worksheets": [
  {
   "cells": [
    {
     "cell_type": "code",
     "collapsed": false,
     "input": [
      "import sys\n",
      "sys.path.append('/Users/konstantingatilin/Documents/Workspace/Libs/Python/xgboost/python')\n",
      "import xgboost as xgb\n",
      "import numpy as np\n",
      "import pandas as pnd\n",
      "from sklearn import cross_validation as cv\n",
      "import math"
     ],
     "language": "python",
     "metadata": {},
     "outputs": [
      {
       "output_type": "stream",
       "stream": "stderr",
       "text": [
        "/Library/Frameworks/Python.framework/Versions/3.4/lib/python3.4/importlib/_bootstrap.py:321: RuntimeWarning: numpy.ufunc size changed, may indicate binary incompatibility\n",
        "  return f(*args, **kwds)\n"
       ]
      }
     ],
     "prompt_number": 1
    },
    {
     "cell_type": "code",
     "collapsed": false,
     "input": [
      "def AMS(s,b):\n",
      "    assert s >= 0\n",
      "    assert b >= 0\n",
      "    bReg = 10.\n",
      "    return math.sqrt(2 * ((s + b + bReg) * \n",
      "                          math.log(1 + s / (b + bReg)) - s))"
     ],
     "language": "python",
     "metadata": {},
     "outputs": [],
     "prompt_number": 2
    },
    {
     "cell_type": "code",
     "collapsed": false,
     "input": [
      "testSize = 550000\n",
      "\n",
      "fullDataTrain = pnd.read_csv('../training.csv')\n",
      "#trainFeatures = fullDataTrain.drop(['EventId'], axis=1)\n",
      "fullDataTrain.Label = fullDataTrain.Label.map({'b': 0, 's': 1})\n",
      "fullDataTrain.WeightN = fullDataTrain.Weight * float(testSize) / len(fullDataTrain)"
     ],
     "language": "python",
     "metadata": {},
     "outputs": [],
     "prompt_number": 3
    },
    {
     "cell_type": "code",
     "collapsed": false,
     "input": [
      "sumWPos = np.sum(fullDataTrain[fullDataTrain.Label == 1].Weight)\n",
      "sumWNeg = np.sum(fullDataTrain[fullDataTrain.Label == 0].Weight)\n",
      "print ('weight statistics: wpos=%g, wneg=%g, ratio=%g' % ( sumWPos, sumWNeg, sumWNeg/sumWPos ))"
     ],
     "language": "python",
     "metadata": {},
     "outputs": [
      {
       "output_type": "stream",
       "stream": "stdout",
       "text": [
        "weight statistics: wpos=691.989, wneg=411000, ratio=593.94\n"
       ]
      }
     ],
     "prompt_number": 4
    },
    {
     "cell_type": "code",
     "collapsed": false,
     "input": [
      "sMean = 0.008078\n",
      "bMean = 2.50102\n",
      "\n",
      "sCount = 46750\n",
      "bCount = 8250\n",
      "AMS(sMean * sCount, bMean * bCount)"
     ],
     "language": "python",
     "metadata": {},
     "outputs": [
      {
       "metadata": {},
       "output_type": "pyout",
       "prompt_number": 231,
       "text": [
        "2.620466082581178"
       ]
      }
     ],
     "prompt_number": 231
    },
    {
     "cell_type": "code",
     "collapsed": false,
     "input": [
      "trainFeatures = ['PRI_tau_pt', 'PRI_lep_eta', 'PRI_met', 'PRI_met_sumet', 'PRI_jet_leading_pt', 'PRI_jet_leading_eta', 'PRI_jet_all_pt', 'DER_mass_MMC', 'DER_mass_transverse_met_lep', 'DER_mass_vis', 'DER_pt_h', 'DER_pt_ratio_lep_tau', 'DER_met_phi_centrality']"
     ],
     "language": "python",
     "metadata": {},
     "outputs": [],
     "prompt_number": 14
    },
    {
     "cell_type": "code",
     "collapsed": false,
     "input": [
      "xgmat = xgb.DMatrix( fullDataTrain.drop(['Label', 'EventId', 'Weight'], axis=1)[trainFeatures].values, \n",
      "                    label=fullDataTrain.Label.values, \n",
      "                    missing = -999.0, \n",
      "                    weight=fullDataTrain.WeightN.values )"
     ],
     "language": "python",
     "metadata": {},
     "outputs": [],
     "prompt_number": 16
    },
    {
     "cell_type": "code",
     "collapsed": false,
     "input": [
      "# setup parameters for xgboost\n",
      "param = {}\n",
      "# use logistic regression loss, use raw prediction before logistic transformation\n",
      "# since we only need the rank\n",
      "param['objective'] = 'binary:logistic'\n",
      "# scale weight of positive examples\n",
      "param['scale_pos_weight'] = sumWNeg/sumWPos\n",
      "param['bst:eta'] = 0.1 \n",
      "param['bst:max_depth'] = 6\n",
      "param['eval_metric'] = 'auc'\n",
      "param['silent'] = 1\n",
      "param['nthread'] = 4\n",
      "plst = list(param.items())+[('eval_metric', 'ams@0.15')]"
     ],
     "language": "python",
     "metadata": {},
     "outputs": [],
     "prompt_number": 6
    },
    {
     "cell_type": "code",
     "collapsed": false,
     "input": [
      "watchlist = [ (xgmat,'train') ]\n",
      "# boost 120 tres\n",
      "numRound = 200\n",
      "print ('loading data end, start to boost trees')\n",
      "bst = xgb.train( plst, xgmat, numRound, watchlist );"
     ],
     "language": "python",
     "metadata": {},
     "outputs": [
      {
       "output_type": "stream",
       "stream": "stdout",
       "text": [
        "loading data end, start to boost trees\n"
       ]
      }
     ],
     "prompt_number": 17
    },
    {
     "cell_type": "code",
     "collapsed": false,
     "input": [
      "bst.save_model('higgs-log.model')"
     ],
     "language": "python",
     "metadata": {},
     "outputs": [],
     "prompt_number": 8
    },
    {
     "cell_type": "code",
     "collapsed": false,
     "input": [
      "def predictOnDS(ds, model):\n",
      "    dm = xgb.DMatrix(ds, missing = -999.0)\n",
      "    pr = model.predict( dm )\n",
      "    \n",
      "    print('ds length: %g, predict length: %g' % (len(ds), len(pr)))\n",
      "    \n",
      "    res = pnd.DataFrame()\n",
      "    res['Index'] = np.r_[1:len(ds)+1]\n",
      "    res['Predicted'] = pr\n",
      "    res['Class'] = np.round(pr)\n",
      "    res['Class'] = res['Class'].map({0:'b', 1: 's'})\n",
      "    res = res.sort('Predicted', ascending=0)\n",
      "    res['RankOrder'] = np.r_[1:len(res)+1]\n",
      "    res = res.sort('Index')\n",
      "    \n",
      "    return res"
     ],
     "language": "python",
     "metadata": {},
     "outputs": [],
     "prompt_number": 9
    },
    {
     "cell_type": "code",
     "collapsed": false,
     "input": [
      "def getStats(dsTest,bst,th):\n",
      "    pr = predictOnDS(dsTest.drop(['Label', 'EventId', 'Weight'], axis=1)[trainFeatures].values, bst)\n",
      "    dsTest['Predicted'] = pr.Class.values\n",
      "    print('dsTest len: %g' % len(dsTest))\n",
      "    print('prS: %g, prB: %g' % (len(pr[pr.Class == 's']), len(pr[pr.Class == 'b'])))\n",
      "    print('S: %g, B: %g, total: %g' % (len(dsTest[dsTest.Predicted == 's']), len(dsTest[dsTest.Predicted == 'b']), len(dsTest.Predicted)))\n",
      "    dsTestS = dsTest[dsTest.Predicted == 's']\n",
      "    wPos = np.sum(dsTestS[dsTestS.Label == 1].Weight)\n",
      "    wNeg = np.sum(dsTestS[dsTestS.Label == 0].Weight)\n",
      "    \n",
      "    realPos = len(dsTest[dsTest.Label == 1])\n",
      "    truePos = len(dsTestS[dsTestS.Label == 1])\n",
      "    trueNeg = len(dsTest[(dsTest.Label == 0) & (dsTest.Predicted == 'b')])\n",
      "    print('Score: %g (tp: %g, tn: %g, realP: %g, totalLen: %g)' % ((truePos + trueNeg) / len(dsTest), truePos, trueNeg, realPos, len(dsTest)))\n",
      "    print ('weight statistics: wpos=%g, wneg=%g, ratio=%g' % ( wPos, wNeg, wNeg/wPos ))\n",
      "    a = AMS(wPos, wNeg)\n",
      "    print('AMS: %g' % a)\n",
      "    print('============================================')"
     ],
     "language": "python",
     "metadata": {},
     "outputs": [],
     "prompt_number": 18
    },
    {
     "cell_type": "code",
     "collapsed": false,
     "input": [
      "cvFolds = cv.KFold(len(fullDataTrain), n_folds=2, shuffle=True)\n",
      "for trainIndex, testIndex in cvFolds:\n",
      "    dsTest = fullDataTrain.iloc[testIndex,:] \n",
      "    getStats(dsTest,bst,0.15)\n",
      "    "
     ],
     "language": "python",
     "metadata": {},
     "outputs": [
      {
       "output_type": "stream",
       "stream": "stdout",
       "text": [
        "ds length: 125000, predict length: 125000\n",
        "dsTest len: 125000"
       ]
      },
      {
       "output_type": "stream",
       "stream": "stdout",
       "text": [
        "\n",
        "prS: 57822, prB: 67178\n",
        "S: 57822, B: 67178, total: 125000"
       ]
      },
      {
       "output_type": "stream",
       "stream": "stdout",
       "text": [
        "\n",
        "Score: 0.801864 (tp: 37891, tn: 62342, realP: 42727, totalLen: 125000)"
       ]
      },
      {
       "output_type": "stream",
       "stream": "stdout",
       "text": [
        "\n",
        "weight statistics: wpos=313.468, wneg=31205.1, ratio=99.5478\n",
        "AMS: 1.77128\n",
        "============================================\n",
        "ds length: 125000, predict length: 125000"
       ]
      },
      {
       "output_type": "stream",
       "stream": "stdout",
       "text": [
        "\n",
        "dsTest len: 125000"
       ]
      },
      {
       "output_type": "stream",
       "stream": "stdout",
       "text": [
        "\n",
        "prS: 57835, prB: 67165\n",
        "S: 57835, B: 67165, total: 125000"
       ]
      },
      {
       "output_type": "stream",
       "stream": "stdout",
       "text": [
        "\n",
        "Score: 0.80284 (tp: 38065, tn: 62290, realP: 42940, totalLen: 125000)"
       ]
      },
      {
       "output_type": "stream",
       "stream": "stdout",
       "text": [
        "\n",
        "weight statistics: wpos=310.675, wneg=31123.6, ratio=100.181\n",
        "AMS: 1.75781\n",
        "============================================\n"
       ]
      }
     ],
     "prompt_number": 19
    },
    {
     "cell_type": "code",
     "collapsed": false,
     "input": [
      "getStats(fullDataTrain.copy(),bst,0.15)\n",
      "#fullDataTrain.info()"
     ],
     "language": "python",
     "metadata": {},
     "outputs": [
      {
       "output_type": "stream",
       "stream": "stdout",
       "text": [
        "ds length: 250000, predict length: 250000\n",
        "dsTest len: 250000"
       ]
      },
      {
       "output_type": "stream",
       "stream": "stdout",
       "text": [
        "\n",
        "prS: 115657, prB: 134343"
       ]
      },
      {
       "output_type": "stream",
       "stream": "stdout",
       "text": [
        "\n",
        "S: 115657, B: 134343, total: 250000"
       ]
      },
      {
       "output_type": "stream",
       "stream": "stdout",
       "text": [
        "\n",
        "Score: 0.802352 (tp: 75956, tn: 124632, realP: 85667, totalLen: 250000)"
       ]
      },
      {
       "output_type": "stream",
       "stream": "stdout",
       "text": [
        "\n",
        "weight statistics: wpos=624.143, wneg=62328.7, ratio=99.8628\n",
        "AMS: 2.49565\n",
        "============================================\n"
       ]
      }
     ],
     "prompt_number": 21
    },
    {
     "cell_type": "code",
     "collapsed": false,
     "input": [
      "i = 0\n",
      "i += 1"
     ],
     "language": "python",
     "metadata": {},
     "outputs": [],
     "prompt_number": 161
    },
    {
     "cell_type": "code",
     "collapsed": false,
     "input": [
      "# make top 15% as positive \n",
      "threshold_ratio = 0.15"
     ],
     "language": "python",
     "metadata": {},
     "outputs": [],
     "prompt_number": 115
    },
    {
     "cell_type": "code",
     "collapsed": false,
     "input": [
      "kaggleTest = pnd.read_csv('../test.csv')"
     ],
     "language": "python",
     "metadata": {},
     "outputs": [],
     "prompt_number": 101
    },
    {
     "cell_type": "code",
     "collapsed": false,
     "input": [
      "dmKaggle = xgb.DMatrix(kaggleTest.drop('EventId', axis=1).values, missing = -999.0)\n",
      "kagglePred = bst.predict( dmKaggle )"
     ],
     "language": "python",
     "metadata": {},
     "outputs": [],
     "prompt_number": 116
    },
    {
     "cell_type": "code",
     "collapsed": false,
     "input": [
      "kagglePred"
     ],
     "language": "python",
     "metadata": {},
     "outputs": [
      {
       "metadata": {},
       "output_type": "pyout",
       "prompt_number": 117,
       "text": [
        "array([-5.8345499 , -0.9988535 ,  0.67745477, ..., -4.08313751,\n",
        "        1.65817928, -0.57328272], dtype=float32)"
       ]
      }
     ],
     "prompt_number": 117
    },
    {
     "cell_type": "code",
     "collapsed": false,
     "input": [
      "kaggleRes = pnd.DataFrame()\n",
      "kaggleRes['EventId'] = kaggleTest['EventId']\n",
      "kaggleRes['Predicted'] = kagglePred\n",
      "kaggleRes = kaggleRes.sort('Predicted', ascending=0)\n",
      "kaggleRes['RankOrder'] = np.r_[1:len(kaggleRes)+1]\n",
      "kaggleRes['Class'] = 'b'\n",
      "\n",
      "lastS = int( threshold_ratio * len(kaggleRes) ) + 1\n",
      "kaggleRes.iloc[:lastS,:].Class = 's'\n",
      "kaggleRes = kaggleRes.sort('EventId')"
     ],
     "language": "python",
     "metadata": {},
     "outputs": [],
     "prompt_number": 136
    },
    {
     "cell_type": "code",
     "collapsed": false,
     "input": [
      "kaggleRes.drop('Predicted', axis=1).to_csv('xgboostSubmit.csv', index=False)"
     ],
     "language": "python",
     "metadata": {},
     "outputs": [],
     "prompt_number": 137
    },
    {
     "cell_type": "code",
     "collapsed": false,
     "input": [
      "trainDS, testDS = cv.train_test_split(trainFeatures, test_size=0.20)"
     ],
     "language": "python",
     "metadata": {},
     "outputs": [],
     "prompt_number": 29
    },
    {
     "cell_type": "code",
     "collapsed": false,
     "input": [
      "trainDS[:,30]"
     ],
     "language": "python",
     "metadata": {},
     "outputs": [
      {
       "ename": "IndexError",
       "evalue": "index 31 is out of bounds for axis 1 with size 31",
       "output_type": "pyerr",
       "traceback": [
        "\u001b[0;31m---------------------------------------------------------------------------\u001b[0m\n\u001b[0;31mIndexError\u001b[0m                                Traceback (most recent call last)",
        "\u001b[0;32m<ipython-input-38-a62bddd46f6e>\u001b[0m in \u001b[0;36m<module>\u001b[0;34m()\u001b[0m\n\u001b[0;32m----> 1\u001b[0;31m \u001b[0mtrainDS\u001b[0m\u001b[0;34m[\u001b[0m\u001b[0;34m:\u001b[0m\u001b[0;34m,\u001b[0m\u001b[0;36m31\u001b[0m\u001b[0;34m]\u001b[0m\u001b[0;34m\u001b[0m\u001b[0m\n\u001b[0m",
        "\u001b[0;31mIndexError\u001b[0m: index 31 is out of bounds for axis 1 with size 31"
       ]
      }
     ],
     "prompt_number": 38
    },
    {
     "cell_type": "code",
     "collapsed": false,
     "input": [
      "dmTrain = xgb.DMatrix(trainDS[:,:30], label=trainDS[:,30], missing = -999.0)"
     ],
     "language": "python",
     "metadata": {},
     "outputs": [],
     "prompt_number": 39
    },
    {
     "cell_type": "code",
     "collapsed": false,
     "input": [
      "dmTrain.save_binary(\"trainXG.bin\")"
     ],
     "language": "python",
     "metadata": {},
     "outputs": [],
     "prompt_number": 40
    },
    {
     "cell_type": "code",
     "collapsed": false,
     "input": [
      "dmTest = xgb.DMatrix(testDS[:,:30], label=testDS[:,30], missing = -999.0)\n",
      "dmTest.save_binary('testXG.bin')"
     ],
     "language": "python",
     "metadata": {},
     "outputs": [],
     "prompt_number": 41
    },
    {
     "cell_type": "code",
     "collapsed": false,
     "input": [
      "param = {'objective':'binary:logistic', 'bst:max_depth': 10}\n",
      "param['nthread'] = 4\n",
      "plst = param.items()"
     ],
     "language": "python",
     "metadata": {},
     "outputs": [],
     "prompt_number": 72
    },
    {
     "cell_type": "code",
     "collapsed": false,
     "input": [
      "evallist  = [(dmTest,'eval'), (dmTrain,'train')]"
     ],
     "language": "python",
     "metadata": {},
     "outputs": [],
     "prompt_number": 44
    },
    {
     "cell_type": "code",
     "collapsed": false,
     "input": [
      "bst = xgb.train( plst, dmTrain, 20, evallist )"
     ],
     "language": "python",
     "metadata": {},
     "outputs": [],
     "prompt_number": 73
    },
    {
     "cell_type": "code",
     "collapsed": false,
     "input": [
      "ypred = bst.predict( dmTest )\n"
     ],
     "language": "python",
     "metadata": {},
     "outputs": [],
     "prompt_number": 74
    },
    {
     "cell_type": "code",
     "collapsed": false,
     "input": [
      "print ('error=%f' % (  sum(1 for i in range(len(ypred)) if int(ypred[i]>0.5)!=testDS[i,30]) /float(len(ypred))))"
     ],
     "language": "python",
     "metadata": {},
     "outputs": [
      {
       "output_type": "stream",
       "stream": "stdout",
       "text": [
        "error=0.159700\n"
       ]
      }
     ],
     "prompt_number": 75
    },
    {
     "cell_type": "code",
     "collapsed": false,
     "input": [
      "kaggleTest = pnd.read_csv('../test.csv')\n",
      "kaggleFeatures = kaggleTest.drop(['EventId'], axis=1)"
     ],
     "language": "python",
     "metadata": {},
     "outputs": [],
     "prompt_number": 77
    },
    {
     "cell_type": "code",
     "collapsed": false,
     "input": [
      "dmKaggle = xgb.DMatrix(kaggleFeatures.values, missing = -999.0)\n",
      "kagglePred = bst.predict( dmKaggle )"
     ],
     "language": "python",
     "metadata": {},
     "outputs": [],
     "prompt_number": 78
    },
    {
     "cell_type": "code",
     "collapsed": false,
     "input": [
      "res = pnd.DataFrame()\n",
      "res['EventId'] = kaggleTest.EventId\n",
      "res['RankOrder'] = np.r_[1:len(kaggleTest)+1]\n",
      "res['Class'] = np.round(kagglePred)"
     ],
     "language": "python",
     "metadata": {},
     "outputs": [],
     "prompt_number": 81
    },
    {
     "cell_type": "code",
     "collapsed": false,
     "input": [
      "res['Class'] = res['Class'].map({0:'b', 1: 's'})"
     ],
     "language": "python",
     "metadata": {},
     "outputs": [],
     "prompt_number": 82
    },
    {
     "cell_type": "code",
     "collapsed": false,
     "input": [
      "res.to_csv('xgboostSubmit.csv', index=False)"
     ],
     "language": "python",
     "metadata": {},
     "outputs": [],
     "prompt_number": 83
    },
    {
     "cell_type": "code",
     "collapsed": false,
     "input": [],
     "language": "python",
     "metadata": {},
     "outputs": []
    }
   ],
   "metadata": {}
  }
 ]
}