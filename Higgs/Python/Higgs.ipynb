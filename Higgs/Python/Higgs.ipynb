{
 "metadata": {
  "name": "",
  "signature": "sha256:b8c6de3dfbadf7252da5e2fa417944392afb96314ec4ba79bdb2c1d17f138155"
 },
 "nbformat": 3,
 "nbformat_minor": 0,
 "worksheets": [
  {
   "cells": [
    {
     "cell_type": "code",
     "collapsed": false,
     "input": [
      "import os\n",
      "os.chdir('C:\\Workspace\\DataScience\\Kaggle\\Higgs')"
     ],
     "language": "python",
     "metadata": {},
     "outputs": [],
     "prompt_number": 1
    },
    {
     "cell_type": "code",
     "collapsed": false,
     "input": [
      "import pandas as pnd\n",
      "\n",
      "fullDataTrain = pnd.read_csv('training.csv')"
     ],
     "language": "python",
     "metadata": {},
     "outputs": [],
     "prompt_number": 2
    },
    {
     "cell_type": "code",
     "collapsed": false,
     "input": [
      "trainFeatures = fullDataTrain.drop(['Weight', 'EventId'], axis=1)"
     ],
     "language": "python",
     "metadata": {},
     "outputs": [],
     "prompt_number": 3
    },
    {
     "cell_type": "code",
     "collapsed": false,
     "input": [
      "trainFeatures.info()"
     ],
     "language": "python",
     "metadata": {},
     "outputs": [
      {
       "output_type": "stream",
       "stream": "stdout",
       "text": [
        "<class 'pandas.core.frame.DataFrame'>\n",
        "Int64Index: 250000 entries, 0 to 249999\n",
        "Data columns (total 31 columns):\n",
        "DER_mass_MMC                   250000 non-null float64\n",
        "DER_mass_transverse_met_lep    250000 non-null float64\n",
        "DER_mass_vis                   250000 non-null float64\n",
        "DER_pt_h                       250000 non-null float64\n",
        "DER_deltaeta_jet_jet           250000 non-null float64\n",
        "DER_mass_jet_jet               250000 non-null float64\n",
        "DER_prodeta_jet_jet            250000 non-null float64\n",
        "DER_deltar_tau_lep             250000 non-null float64\n",
        "DER_pt_tot                     250000 non-null float64\n",
        "DER_sum_pt                     250000 non-null float64\n",
        "DER_pt_ratio_lep_tau           250000 non-null float64\n",
        "DER_met_phi_centrality         250000 non-null float64\n",
        "DER_lep_eta_centrality         250000 non-null float64\n",
        "PRI_tau_pt                     250000 non-null float64\n",
        "PRI_tau_eta                    250000 non-null float64\n",
        "PRI_tau_phi                    250000 non-null float64\n",
        "PRI_lep_pt                     250000 non-null float64\n",
        "PRI_lep_eta                    250000 non-null float64\n",
        "PRI_lep_phi                    250000 non-null float64\n",
        "PRI_met                        250000 non-null float64\n",
        "PRI_met_phi                    250000 non-null float64\n",
        "PRI_met_sumet                  250000 non-null float64\n",
        "PRI_jet_num                    250000 non-null int64\n",
        "PRI_jet_leading_pt             250000 non-null float64\n",
        "PRI_jet_leading_eta            250000 non-null float64\n",
        "PRI_jet_leading_phi            250000 non-null float64\n",
        "PRI_jet_subleading_pt          250000 non-null float64\n",
        "PRI_jet_subleading_eta         250000 non-null float64\n",
        "PRI_jet_subleading_phi         250000 non-null float64\n",
        "PRI_jet_all_pt                 250000 non-null float64\n",
        "Label                          250000 non-null object\n",
        "dtypes: float64(29), int64(1), object(1)"
       ]
      }
     ],
     "prompt_number": 4
    },
    {
     "cell_type": "code",
     "collapsed": false,
     "input": [
      "trainFeatures.Label = trainFeatures.Label.map({'b': 0, 's': 1})"
     ],
     "language": "python",
     "metadata": {},
     "outputs": [],
     "prompt_number": 5
    },
    {
     "cell_type": "code",
     "collapsed": false,
     "input": [
      "from sklearn.ensemble import GradientBoostingClassifier"
     ],
     "language": "python",
     "metadata": {},
     "outputs": [],
     "prompt_number": 6
    },
    {
     "cell_type": "code",
     "collapsed": false,
     "input": [
      "from sklearn import cross_validation as cv\n",
      "trainDS, testDS = cv.train_test_split(trainFeatures, test_size=0.20)\n",
      "trainDS, cvDS = cv.train_test_split(trainDS, test_size=0.10)"
     ],
     "language": "python",
     "metadata": {},
     "outputs": [],
     "prompt_number": 7
    },
    {
     "cell_type": "code",
     "collapsed": false,
     "input": [
      "trainDS[1,:30]"
     ],
     "language": "python",
     "metadata": {},
     "outputs": [
      {
       "metadata": {},
       "output_type": "pyout",
       "prompt_number": 79,
       "text": [
        "array([  9.90640000e+01,   3.54150000e+01,   5.71980000e+01,\n",
        "         1.14211000e+02,   5.42300000e+00,   8.52268000e+02,\n",
        "        -7.08800000e+00,   1.57400000e+00,   3.87400000e+00,\n",
        "         1.98405000e+02,   8.25000000e-01,   1.41400000e+00,\n",
        "         9.30000000e-01,   4.43940000e+01,   3.28000000e-01,\n",
        "        -1.60900000e+00,   3.66250000e+01,   2.17000000e-01,\n",
        "         3.10400000e+00,   5.67420000e+01,  -2.38100000e+00,\n",
        "         2.03895000e+02,   2.00000000e+00,   7.34710000e+01,\n",
        "         2.19900000e+00,   1.03100000e+00,   4.39150000e+01,\n",
        "        -3.22400000e+00,   3.55000000e-01,   1.17387000e+02])"
       ]
      }
     ],
     "prompt_number": 79
    },
    {
     "cell_type": "code",
     "collapsed": false,
     "input": [
      "clf = GradientBoostingClassifier(n_estimators=500,max_depth=10).fit(trainDS[:,:30], trainDS[:,30])"
     ],
     "language": "python",
     "metadata": {},
     "outputs": [],
     "prompt_number": 8
    },
    {
     "cell_type": "code",
     "collapsed": false,
     "input": [
      "clf.score(testDS[:,:30], testDS[:,30])\n",
      "clf.score(cvDS[:,:30], cvDS[:,30])"
     ],
     "language": "python",
     "metadata": {},
     "outputs": [
      {
       "metadata": {},
       "output_type": "pyout",
       "prompt_number": 11,
       "text": [
        "0.84640000000000004"
       ]
      }
     ],
     "prompt_number": 11
    },
    {
     "cell_type": "code",
     "collapsed": false,
     "input": [
      "kaggleTest = pnd.read_csv('test.csv')"
     ],
     "language": "python",
     "metadata": {},
     "outputs": [],
     "prompt_number": 12
    },
    {
     "cell_type": "code",
     "collapsed": false,
     "input": [
      "kaggleForPredict = kaggleTest.drop('EventId', axis=1)\n",
      "#kaggleTest.info()\n",
      "#testDS.info()"
     ],
     "language": "python",
     "metadata": {},
     "outputs": [],
     "prompt_number": 13
    },
    {
     "cell_type": "code",
     "collapsed": false,
     "input": [
      "prRes = clf.predict(kaggleForPredict)"
     ],
     "language": "python",
     "metadata": {},
     "outputs": [],
     "prompt_number": 14
    },
    {
     "cell_type": "code",
     "collapsed": false,
     "input": [
      "resDf = pnd.DataFrame()\n",
      "resDf['EventId'] = kaggleTest.EventId\n",
      "resDf['RankOrder'] = NP.r_[1:len(kaggleTest)+1]\n",
      "resDf['Class'] = prRes"
     ],
     "language": "python",
     "metadata": {},
     "outputs": [],
     "prompt_number": 17
    },
    {
     "cell_type": "code",
     "collapsed": false,
     "input": [
      "import numpy as NP"
     ],
     "language": "python",
     "metadata": {},
     "outputs": [],
     "prompt_number": 16
    },
    {
     "cell_type": "code",
     "collapsed": false,
     "input": [
      "resDf['Class'] = resDf['Class'].map({0:'b', 1: 's'})"
     ],
     "language": "python",
     "metadata": {},
     "outputs": [],
     "prompt_number": 18
    },
    {
     "cell_type": "code",
     "collapsed": false,
     "input": [
      "resDf.to_csv('pythonSubmit.csv', index=False)"
     ],
     "language": "python",
     "metadata": {},
     "outputs": [
      {
       "output_type": "stream",
       "stream": "stderr",
       "text": [
        "C:\\Users\\User\\Downloads\\WinPython-64bit-3.3.5.0\\python-3.3.5.amd64\\lib\\site-packages\\pandas\\core\\internals.py:552: DeprecationWarning: using a non-integer number instead of an integer will result in an error in the future\n",
        "  values = values[:, slicer]\n",
        "C:\\Users\\User\\Downloads\\WinPython-64bit-3.3.5.0\\python-3.3.5.amd64\\lib\\site-packages\\pandas\\core\\internals.py:552: DeprecationWarning: using a non-integer number instead of an integer will result in an error in the future\n",
        "  values = values[:, slicer]\n",
        "C:\\Users\\User\\Downloads\\WinPython-64bit-3.3.5.0\\python-3.3.5.amd64\\lib\\site-packages\\pandas\\core\\internals.py:552: DeprecationWarning: using a non-integer number instead of an integer will result in an error in the future\n",
        "  values = values[:, slicer]\n",
        "C:\\Users\\User\\Downloads\\WinPython-64bit-3.3.5.0\\python-3.3.5.amd64\\lib\\site-packages\\pandas\\core\\internals.py:552: DeprecationWarning: using a non-integer number instead of an integer will result in an error in the future\n",
        "  values = values[:, slicer]\n",
        "C:\\Users\\User\\Downloads\\WinPython-64bit-3.3.5.0\\python-3.3.5.amd64\\lib\\site-packages\\pandas\\core\\internals.py:552: DeprecationWarning: using a non-integer number instead of an integer will result in an error in the future\n",
        "  values = values[:, slicer]\n",
        "C:\\Users\\User\\Downloads\\WinPython-64bit-3.3.5.0\\python-3.3.5.amd64\\lib\\site-packages\\pandas\\core\\internals.py:552: DeprecationWarning: using a non-integer number instead of an integer will result in an error in the future\n",
        "  values = values[:, slicer]\n",
        "C:\\Users\\User\\Downloads\\WinPython-64bit-3.3.5.0\\python-3.3.5.amd64\\lib\\site-packages\\pandas\\core\\index.py:624: DeprecationWarning: using a non-integer number instead of an integer will result in an error in the future\n",
        "  result = arr_idx[key]\n",
        "C:\\Users\\User\\Downloads\\WinPython-64bit-3.3.5.0\\python-3.3.5.amd64\\lib\\site-packages\\pandas\\core\\index.py:624: DeprecationWarning: using a non-integer number instead of an integer will result in an error in the future\n",
        "  result = arr_idx[key]\n",
        "C:\\Users\\User\\Downloads\\WinPython-64bit-3.3.5.0\\python-3.3.5.amd64\\lib\\site-packages\\pandas\\core\\internals.py:552: DeprecationWarning: using a non-integer number instead of an integer will result in an error in the future\n",
        "  values = values[:, slicer]\n"
       ]
      },
      {
       "output_type": "stream",
       "stream": "stderr",
       "text": [
        "C:\\Users\\User\\Downloads\\WinPython-64bit-3.3.5.0\\python-3.3.5.amd64\\lib\\site-packages\\pandas\\core\\internals.py:552: DeprecationWarning: using a non-integer number instead of an integer will result in an error in the future\n",
        "  values = values[:, slicer]\n",
        "C:\\Users\\User\\Downloads\\WinPython-64bit-3.3.5.0\\python-3.3.5.amd64\\lib\\site-packages\\pandas\\core\\internals.py:552: DeprecationWarning: using a non-integer number instead of an integer will result in an error in the future\n",
        "  values = values[:, slicer]\n",
        "C:\\Users\\User\\Downloads\\WinPython-64bit-3.3.5.0\\python-3.3.5.amd64\\lib\\site-packages\\pandas\\core\\internals.py:552: DeprecationWarning: using a non-integer number instead of an integer will result in an error in the future\n",
        "  values = values[:, slicer]\n",
        "C:\\Users\\User\\Downloads\\WinPython-64bit-3.3.5.0\\python-3.3.5.amd64\\lib\\site-packages\\pandas\\core\\internals.py:552: DeprecationWarning: using a non-integer number instead of an integer will result in an error in the future\n",
        "  values = values[:, slicer]\n",
        "C:\\Users\\User\\Downloads\\WinPython-64bit-3.3.5.0\\python-3.3.5.amd64\\lib\\site-packages\\pandas\\core\\internals.py:552: DeprecationWarning: using a non-integer number instead of an integer will result in an error in the future\n",
        "  values = values[:, slicer]\n",
        "C:\\Users\\User\\Downloads\\WinPython-64bit-3.3.5.0\\python-3.3.5.amd64\\lib\\site-packages\\pandas\\core\\index.py:624: DeprecationWarning: using a non-integer number instead of an integer will result in an error in the future\n",
        "  result = arr_idx[key]\n",
        "C:\\Users\\User\\Downloads\\WinPython-64bit-3.3.5.0\\python-3.3.5.amd64\\lib\\site-packages\\pandas\\core\\index.py:624: DeprecationWarning: using a non-integer number instead of an integer will result in an error in the future\n",
        "  result = arr_idx[key]\n",
        "C:\\Users\\User\\Downloads\\WinPython-64bit-3.3.5.0\\python-3.3.5.amd64\\lib\\site-packages\\pandas\\core\\internals.py:552: DeprecationWarning: using a non-integer number instead of an integer will result in an error in the future\n",
        "  values = values[:, slicer]\n"
       ]
      },
      {
       "output_type": "stream",
       "stream": "stderr",
       "text": [
        "C:\\Users\\User\\Downloads\\WinPython-64bit-3.3.5.0\\python-3.3.5.amd64\\lib\\site-packages\\pandas\\core\\internals.py:552: DeprecationWarning: using a non-integer number instead of an integer will result in an error in the future\n",
        "  values = values[:, slicer]\n",
        "C:\\Users\\User\\Downloads\\WinPython-64bit-3.3.5.0\\python-3.3.5.amd64\\lib\\site-packages\\pandas\\core\\internals.py:552: DeprecationWarning: using a non-integer number instead of an integer will result in an error in the future\n",
        "  values = values[:, slicer]\n",
        "C:\\Users\\User\\Downloads\\WinPython-64bit-3.3.5.0\\python-3.3.5.amd64\\lib\\site-packages\\pandas\\core\\internals.py:552: DeprecationWarning: using a non-integer number instead of an integer will result in an error in the future\n",
        "  values = values[:, slicer]\n",
        "C:\\Users\\User\\Downloads\\WinPython-64bit-3.3.5.0\\python-3.3.5.amd64\\lib\\site-packages\\pandas\\core\\internals.py:552: DeprecationWarning: using a non-integer number instead of an integer will result in an error in the future\n",
        "  values = values[:, slicer]\n",
        "C:\\Users\\User\\Downloads\\WinPython-64bit-3.3.5.0\\python-3.3.5.amd64\\lib\\site-packages\\pandas\\core\\internals.py:552: DeprecationWarning: using a non-integer number instead of an integer will result in an error in the future\n",
        "  values = values[:, slicer]\n",
        "C:\\Users\\User\\Downloads\\WinPython-64bit-3.3.5.0\\python-3.3.5.amd64\\lib\\site-packages\\pandas\\core\\index.py:624: DeprecationWarning: using a non-integer number instead of an integer will result in an error in the future\n",
        "  result = arr_idx[key]\n",
        "C:\\Users\\User\\Downloads\\WinPython-64bit-3.3.5.0\\python-3.3.5.amd64\\lib\\site-packages\\pandas\\core\\index.py:624: DeprecationWarning: using a non-integer number instead of an integer will result in an error in the future\n",
        "  result = arr_idx[key]\n",
        "C:\\Users\\User\\Downloads\\WinPython-64bit-3.3.5.0\\python-3.3.5.amd64\\lib\\site-packages\\pandas\\core\\internals.py:552: DeprecationWarning: using a non-integer number instead of an integer will result in an error in the future\n",
        "  values = values[:, slicer]\n"
       ]
      },
      {
       "output_type": "stream",
       "stream": "stderr",
       "text": [
        "C:\\Users\\User\\Downloads\\WinPython-64bit-3.3.5.0\\python-3.3.5.amd64\\lib\\site-packages\\pandas\\core\\internals.py:552: DeprecationWarning: using a non-integer number instead of an integer will result in an error in the future\n",
        "  values = values[:, slicer]\n",
        "C:\\Users\\User\\Downloads\\WinPython-64bit-3.3.5.0\\python-3.3.5.amd64\\lib\\site-packages\\pandas\\core\\internals.py:552: DeprecationWarning: using a non-integer number instead of an integer will result in an error in the future\n",
        "  values = values[:, slicer]\n",
        "C:\\Users\\User\\Downloads\\WinPython-64bit-3.3.5.0\\python-3.3.5.amd64\\lib\\site-packages\\pandas\\core\\internals.py:552: DeprecationWarning: using a non-integer number instead of an integer will result in an error in the future\n",
        "  values = values[:, slicer]\n",
        "C:\\Users\\User\\Downloads\\WinPython-64bit-3.3.5.0\\python-3.3.5.amd64\\lib\\site-packages\\pandas\\core\\internals.py:552: DeprecationWarning: using a non-integer number instead of an integer will result in an error in the future\n",
        "  values = values[:, slicer]\n",
        "C:\\Users\\User\\Downloads\\WinPython-64bit-3.3.5.0\\python-3.3.5.amd64\\lib\\site-packages\\pandas\\core\\internals.py:552: DeprecationWarning: using a non-integer number instead of an integer will result in an error in the future\n",
        "  values = values[:, slicer]\n",
        "C:\\Users\\User\\Downloads\\WinPython-64bit-3.3.5.0\\python-3.3.5.amd64\\lib\\site-packages\\pandas\\core\\index.py:624: DeprecationWarning: using a non-integer number instead of an integer will result in an error in the future\n",
        "  result = arr_idx[key]\n",
        "C:\\Users\\User\\Downloads\\WinPython-64bit-3.3.5.0\\python-3.3.5.amd64\\lib\\site-packages\\pandas\\core\\index.py:624: DeprecationWarning: using a non-integer number instead of an integer will result in an error in the future\n",
        "  result = arr_idx[key]\n",
        "C:\\Users\\User\\Downloads\\WinPython-64bit-3.3.5.0\\python-3.3.5.amd64\\lib\\site-packages\\pandas\\core\\internals.py:552: DeprecationWarning: using a non-integer number instead of an integer will result in an error in the future\n",
        "  values = values[:, slicer]\n"
       ]
      },
      {
       "output_type": "stream",
       "stream": "stderr",
       "text": [
        "C:\\Users\\User\\Downloads\\WinPython-64bit-3.3.5.0\\python-3.3.5.amd64\\lib\\site-packages\\pandas\\core\\internals.py:552: DeprecationWarning: using a non-integer number instead of an integer will result in an error in the future\n",
        "  values = values[:, slicer]\n",
        "C:\\Users\\User\\Downloads\\WinPython-64bit-3.3.5.0\\python-3.3.5.amd64\\lib\\site-packages\\pandas\\core\\internals.py:552: DeprecationWarning: using a non-integer number instead of an integer will result in an error in the future\n",
        "  values = values[:, slicer]\n",
        "C:\\Users\\User\\Downloads\\WinPython-64bit-3.3.5.0\\python-3.3.5.amd64\\lib\\site-packages\\pandas\\core\\internals.py:552: DeprecationWarning: using a non-integer number instead of an integer will result in an error in the future\n",
        "  values = values[:, slicer]\n",
        "C:\\Users\\User\\Downloads\\WinPython-64bit-3.3.5.0\\python-3.3.5.amd64\\lib\\site-packages\\pandas\\core\\internals.py:552: DeprecationWarning: using a non-integer number instead of an integer will result in an error in the future\n",
        "  values = values[:, slicer]\n",
        "C:\\Users\\User\\Downloads\\WinPython-64bit-3.3.5.0\\python-3.3.5.amd64\\lib\\site-packages\\pandas\\core\\internals.py:552: DeprecationWarning: using a non-integer number instead of an integer will result in an error in the future\n",
        "  values = values[:, slicer]\n",
        "C:\\Users\\User\\Downloads\\WinPython-64bit-3.3.5.0\\python-3.3.5.amd64\\lib\\site-packages\\pandas\\core\\index.py:624: DeprecationWarning: using a non-integer number instead of an integer will result in an error in the future\n",
        "  result = arr_idx[key]\n",
        "C:\\Users\\User\\Downloads\\WinPython-64bit-3.3.5.0\\python-3.3.5.amd64\\lib\\site-packages\\pandas\\core\\index.py:624: DeprecationWarning: using a non-integer number instead of an integer will result in an error in the future\n",
        "  result = arr_idx[key]\n",
        "C:\\Users\\User\\Downloads\\WinPython-64bit-3.3.5.0\\python-3.3.5.amd64\\lib\\site-packages\\pandas\\core\\internals.py:552: DeprecationWarning: using a non-integer number instead of an integer will result in an error in the future\n",
        "  values = values[:, slicer]\n"
       ]
      },
      {
       "output_type": "stream",
       "stream": "stderr",
       "text": [
        "C:\\Users\\User\\Downloads\\WinPython-64bit-3.3.5.0\\python-3.3.5.amd64\\lib\\site-packages\\pandas\\core\\internals.py:552: DeprecationWarning: using a non-integer number instead of an integer will result in an error in the future\n",
        "  values = values[:, slicer]\n",
        "C:\\Users\\User\\Downloads\\WinPython-64bit-3.3.5.0\\python-3.3.5.amd64\\lib\\site-packages\\pandas\\core\\internals.py:552: DeprecationWarning: using a non-integer number instead of an integer will result in an error in the future\n",
        "  values = values[:, slicer]\n",
        "C:\\Users\\User\\Downloads\\WinPython-64bit-3.3.5.0\\python-3.3.5.amd64\\lib\\site-packages\\pandas\\core\\internals.py:552: DeprecationWarning: using a non-integer number instead of an integer will result in an error in the future\n",
        "  values = values[:, slicer]\n",
        "C:\\Users\\User\\Downloads\\WinPython-64bit-3.3.5.0\\python-3.3.5.amd64\\lib\\site-packages\\pandas\\core\\internals.py:552: DeprecationWarning: using a non-integer number instead of an integer will result in an error in the future\n",
        "  values = values[:, slicer]\n",
        "C:\\Users\\User\\Downloads\\WinPython-64bit-3.3.5.0\\python-3.3.5.amd64\\lib\\site-packages\\pandas\\core\\internals.py:552: DeprecationWarning: using a non-integer number instead of an integer will result in an error in the future\n",
        "  values = values[:, slicer]\n",
        "C:\\Users\\User\\Downloads\\WinPython-64bit-3.3.5.0\\python-3.3.5.amd64\\lib\\site-packages\\pandas\\core\\index.py:624: DeprecationWarning: using a non-integer number instead of an integer will result in an error in the future\n",
        "  result = arr_idx[key]\n",
        "C:\\Users\\User\\Downloads\\WinPython-64bit-3.3.5.0\\python-3.3.5.amd64\\lib\\site-packages\\pandas\\core\\index.py:624: DeprecationWarning: using a non-integer number instead of an integer will result in an error in the future\n",
        "  result = arr_idx[key]\n",
        "C:\\Users\\User\\Downloads\\WinPython-64bit-3.3.5.0\\python-3.3.5.amd64\\lib\\site-packages\\pandas\\core\\internals.py:552: DeprecationWarning: using a non-integer number instead of an integer will result in an error in the future\n",
        "  values = values[:, slicer]\n"
       ]
      },
      {
       "output_type": "stream",
       "stream": "stderr",
       "text": [
        "C:\\Users\\User\\Downloads\\WinPython-64bit-3.3.5.0\\python-3.3.5.amd64\\lib\\site-packages\\pandas\\core\\internals.py:552: DeprecationWarning: using a non-integer number instead of an integer will result in an error in the future\n",
        "  values = values[:, slicer]\n",
        "C:\\Users\\User\\Downloads\\WinPython-64bit-3.3.5.0\\python-3.3.5.amd64\\lib\\site-packages\\pandas\\core\\internals.py:552: DeprecationWarning: using a non-integer number instead of an integer will result in an error in the future\n",
        "  values = values[:, slicer]\n",
        "C:\\Users\\User\\Downloads\\WinPython-64bit-3.3.5.0\\python-3.3.5.amd64\\lib\\site-packages\\pandas\\core\\internals.py:552: DeprecationWarning: using a non-integer number instead of an integer will result in an error in the future\n",
        "  values = values[:, slicer]\n",
        "C:\\Users\\User\\Downloads\\WinPython-64bit-3.3.5.0\\python-3.3.5.amd64\\lib\\site-packages\\pandas\\core\\internals.py:552: DeprecationWarning: using a non-integer number instead of an integer will result in an error in the future\n",
        "  values = values[:, slicer]\n",
        "C:\\Users\\User\\Downloads\\WinPython-64bit-3.3.5.0\\python-3.3.5.amd64\\lib\\site-packages\\pandas\\core\\internals.py:552: DeprecationWarning: using a non-integer number instead of an integer will result in an error in the future\n",
        "  values = values[:, slicer]\n",
        "C:\\Users\\User\\Downloads\\WinPython-64bit-3.3.5.0\\python-3.3.5.amd64\\lib\\site-packages\\pandas\\core\\index.py:624: DeprecationWarning: using a non-integer number instead of an integer will result in an error in the future\n",
        "  result = arr_idx[key]\n",
        "C:\\Users\\User\\Downloads\\WinPython-64bit-3.3.5.0\\python-3.3.5.amd64\\lib\\site-packages\\pandas\\core\\index.py:624: DeprecationWarning: using a non-integer number instead of an integer will result in an error in the future\n",
        "  result = arr_idx[key]\n",
        "C:\\Users\\User\\Downloads\\WinPython-64bit-3.3.5.0\\python-3.3.5.amd64\\lib\\site-packages\\pandas\\core\\internals.py:552: DeprecationWarning: using a non-integer number instead of an integer will result in an error in the future\n",
        "  values = values[:, slicer]\n"
       ]
      },
      {
       "output_type": "stream",
       "stream": "stderr",
       "text": [
        "C:\\Users\\User\\Downloads\\WinPython-64bit-3.3.5.0\\python-3.3.5.amd64\\lib\\site-packages\\pandas\\core\\internals.py:552: DeprecationWarning: using a non-integer number instead of an integer will result in an error in the future\n",
        "  values = values[:, slicer]\n",
        "C:\\Users\\User\\Downloads\\WinPython-64bit-3.3.5.0\\python-3.3.5.amd64\\lib\\site-packages\\pandas\\core\\internals.py:552: DeprecationWarning: using a non-integer number instead of an integer will result in an error in the future\n",
        "  values = values[:, slicer]\n",
        "C:\\Users\\User\\Downloads\\WinPython-64bit-3.3.5.0\\python-3.3.5.amd64\\lib\\site-packages\\pandas\\core\\internals.py:552: DeprecationWarning: using a non-integer number instead of an integer will result in an error in the future\n",
        "  values = values[:, slicer]\n",
        "C:\\Users\\User\\Downloads\\WinPython-64bit-3.3.5.0\\python-3.3.5.amd64\\lib\\site-packages\\pandas\\core\\internals.py:552: DeprecationWarning: using a non-integer number instead of an integer will result in an error in the future\n",
        "  values = values[:, slicer]\n",
        "C:\\Users\\User\\Downloads\\WinPython-64bit-3.3.5.0\\python-3.3.5.amd64\\lib\\site-packages\\pandas\\core\\internals.py:552: DeprecationWarning: using a non-integer number instead of an integer will result in an error in the future\n",
        "  values = values[:, slicer]\n",
        "C:\\Users\\User\\Downloads\\WinPython-64bit-3.3.5.0\\python-3.3.5.amd64\\lib\\site-packages\\pandas\\core\\index.py:624: DeprecationWarning: using a non-integer number instead of an integer will result in an error in the future\n",
        "  result = arr_idx[key]\n",
        "C:\\Users\\User\\Downloads\\WinPython-64bit-3.3.5.0\\python-3.3.5.amd64\\lib\\site-packages\\pandas\\core\\index.py:624: DeprecationWarning: using a non-integer number instead of an integer will result in an error in the future\n",
        "  result = arr_idx[key]\n",
        "C:\\Users\\User\\Downloads\\WinPython-64bit-3.3.5.0\\python-3.3.5.amd64\\lib\\site-packages\\pandas\\core\\internals.py:552: DeprecationWarning: using a non-integer number instead of an integer will result in an error in the future\n",
        "  values = values[:, slicer]\n"
       ]
      },
      {
       "output_type": "stream",
       "stream": "stderr",
       "text": [
        "C:\\Users\\User\\Downloads\\WinPython-64bit-3.3.5.0\\python-3.3.5.amd64\\lib\\site-packages\\pandas\\core\\internals.py:552: DeprecationWarning: using a non-integer number instead of an integer will result in an error in the future\n",
        "  values = values[:, slicer]\n",
        "C:\\Users\\User\\Downloads\\WinPython-64bit-3.3.5.0\\python-3.3.5.amd64\\lib\\site-packages\\pandas\\core\\internals.py:552: DeprecationWarning: using a non-integer number instead of an integer will result in an error in the future\n",
        "  values = values[:, slicer]\n",
        "C:\\Users\\User\\Downloads\\WinPython-64bit-3.3.5.0\\python-3.3.5.amd64\\lib\\site-packages\\pandas\\core\\internals.py:552: DeprecationWarning: using a non-integer number instead of an integer will result in an error in the future\n",
        "  values = values[:, slicer]\n",
        "C:\\Users\\User\\Downloads\\WinPython-64bit-3.3.5.0\\python-3.3.5.amd64\\lib\\site-packages\\pandas\\core\\internals.py:552: DeprecationWarning: using a non-integer number instead of an integer will result in an error in the future\n",
        "  values = values[:, slicer]\n",
        "C:\\Users\\User\\Downloads\\WinPython-64bit-3.3.5.0\\python-3.3.5.amd64\\lib\\site-packages\\pandas\\core\\internals.py:552: DeprecationWarning: using a non-integer number instead of an integer will result in an error in the future\n",
        "  values = values[:, slicer]\n",
        "C:\\Users\\User\\Downloads\\WinPython-64bit-3.3.5.0\\python-3.3.5.amd64\\lib\\site-packages\\pandas\\core\\index.py:624: DeprecationWarning: using a non-integer number instead of an integer will result in an error in the future\n",
        "  result = arr_idx[key]\n",
        "C:\\Users\\User\\Downloads\\WinPython-64bit-3.3.5.0\\python-3.3.5.amd64\\lib\\site-packages\\pandas\\core\\index.py:624: DeprecationWarning: using a non-integer number instead of an integer will result in an error in the future\n",
        "  result = arr_idx[key]\n",
        "C:\\Users\\User\\Downloads\\WinPython-64bit-3.3.5.0\\python-3.3.5.amd64\\lib\\site-packages\\pandas\\core\\internals.py:552: DeprecationWarning: using a non-integer number instead of an integer will result in an error in the future\n",
        "  values = values[:, slicer]\n"
       ]
      },
      {
       "output_type": "stream",
       "stream": "stderr",
       "text": [
        "C:\\Users\\User\\Downloads\\WinPython-64bit-3.3.5.0\\python-3.3.5.amd64\\lib\\site-packages\\pandas\\core\\internals.py:552: DeprecationWarning: using a non-integer number instead of an integer will result in an error in the future\n",
        "  values = values[:, slicer]\n",
        "C:\\Users\\User\\Downloads\\WinPython-64bit-3.3.5.0\\python-3.3.5.amd64\\lib\\site-packages\\pandas\\core\\internals.py:552: DeprecationWarning: using a non-integer number instead of an integer will result in an error in the future\n",
        "  values = values[:, slicer]\n",
        "C:\\Users\\User\\Downloads\\WinPython-64bit-3.3.5.0\\python-3.3.5.amd64\\lib\\site-packages\\pandas\\core\\internals.py:552: DeprecationWarning: using a non-integer number instead of an integer will result in an error in the future\n",
        "  values = values[:, slicer]\n",
        "C:\\Users\\User\\Downloads\\WinPython-64bit-3.3.5.0\\python-3.3.5.amd64\\lib\\site-packages\\pandas\\core\\internals.py:552: DeprecationWarning: using a non-integer number instead of an integer will result in an error in the future\n",
        "  values = values[:, slicer]\n",
        "C:\\Users\\User\\Downloads\\WinPython-64bit-3.3.5.0\\python-3.3.5.amd64\\lib\\site-packages\\pandas\\core\\internals.py:552: DeprecationWarning: using a non-integer number instead of an integer will result in an error in the future\n",
        "  values = values[:, slicer]\n",
        "C:\\Users\\User\\Downloads\\WinPython-64bit-3.3.5.0\\python-3.3.5.amd64\\lib\\site-packages\\pandas\\core\\index.py:624: DeprecationWarning: using a non-integer number instead of an integer will result in an error in the future\n",
        "  result = arr_idx[key]\n",
        "C:\\Users\\User\\Downloads\\WinPython-64bit-3.3.5.0\\python-3.3.5.amd64\\lib\\site-packages\\pandas\\core\\index.py:624: DeprecationWarning: using a non-integer number instead of an integer will result in an error in the future\n",
        "  result = arr_idx[key]\n",
        "C:\\Users\\User\\Downloads\\WinPython-64bit-3.3.5.0\\python-3.3.5.amd64\\lib\\site-packages\\pandas\\core\\internals.py:552: DeprecationWarning: using a non-integer number instead of an integer will result in an error in the future\n",
        "  values = values[:, slicer]\n"
       ]
      },
      {
       "output_type": "stream",
       "stream": "stderr",
       "text": [
        "C:\\Users\\User\\Downloads\\WinPython-64bit-3.3.5.0\\python-3.3.5.amd64\\lib\\site-packages\\pandas\\core\\internals.py:552: DeprecationWarning: using a non-integer number instead of an integer will result in an error in the future\n",
        "  values = values[:, slicer]\n",
        "C:\\Users\\User\\Downloads\\WinPython-64bit-3.3.5.0\\python-3.3.5.amd64\\lib\\site-packages\\pandas\\core\\internals.py:552: DeprecationWarning: using a non-integer number instead of an integer will result in an error in the future\n",
        "  values = values[:, slicer]\n",
        "C:\\Users\\User\\Downloads\\WinPython-64bit-3.3.5.0\\python-3.3.5.amd64\\lib\\site-packages\\pandas\\core\\internals.py:552: DeprecationWarning: using a non-integer number instead of an integer will result in an error in the future\n",
        "  values = values[:, slicer]\n",
        "C:\\Users\\User\\Downloads\\WinPython-64bit-3.3.5.0\\python-3.3.5.amd64\\lib\\site-packages\\pandas\\core\\internals.py:552: DeprecationWarning: using a non-integer number instead of an integer will result in an error in the future\n",
        "  values = values[:, slicer]\n",
        "C:\\Users\\User\\Downloads\\WinPython-64bit-3.3.5.0\\python-3.3.5.amd64\\lib\\site-packages\\pandas\\core\\internals.py:552: DeprecationWarning: using a non-integer number instead of an integer will result in an error in the future\n",
        "  values = values[:, slicer]\n",
        "C:\\Users\\User\\Downloads\\WinPython-64bit-3.3.5.0\\python-3.3.5.amd64\\lib\\site-packages\\pandas\\core\\index.py:624: DeprecationWarning: using a non-integer number instead of an integer will result in an error in the future\n",
        "  result = arr_idx[key]\n",
        "C:\\Users\\User\\Downloads\\WinPython-64bit-3.3.5.0\\python-3.3.5.amd64\\lib\\site-packages\\pandas\\core\\index.py:624: DeprecationWarning: using a non-integer number instead of an integer will result in an error in the future\n",
        "  result = arr_idx[key]\n",
        "C:\\Users\\User\\Downloads\\WinPython-64bit-3.3.5.0\\python-3.3.5.amd64\\lib\\site-packages\\pandas\\core\\internals.py:552: DeprecationWarning: using a non-integer number instead of an integer will result in an error in the future\n",
        "  values = values[:, slicer]\n"
       ]
      },
      {
       "output_type": "stream",
       "stream": "stderr",
       "text": [
        "C:\\Users\\User\\Downloads\\WinPython-64bit-3.3.5.0\\python-3.3.5.amd64\\lib\\site-packages\\pandas\\core\\internals.py:552: DeprecationWarning: using a non-integer number instead of an integer will result in an error in the future\n",
        "  values = values[:, slicer]\n",
        "C:\\Users\\User\\Downloads\\WinPython-64bit-3.3.5.0\\python-3.3.5.amd64\\lib\\site-packages\\pandas\\core\\internals.py:552: DeprecationWarning: using a non-integer number instead of an integer will result in an error in the future\n",
        "  values = values[:, slicer]\n",
        "C:\\Users\\User\\Downloads\\WinPython-64bit-3.3.5.0\\python-3.3.5.amd64\\lib\\site-packages\\pandas\\core\\internals.py:552: DeprecationWarning: using a non-integer number instead of an integer will result in an error in the future\n",
        "  values = values[:, slicer]\n",
        "C:\\Users\\User\\Downloads\\WinPython-64bit-3.3.5.0\\python-3.3.5.amd64\\lib\\site-packages\\pandas\\core\\internals.py:552: DeprecationWarning: using a non-integer number instead of an integer will result in an error in the future\n",
        "  values = values[:, slicer]\n",
        "C:\\Users\\User\\Downloads\\WinPython-64bit-3.3.5.0\\python-3.3.5.amd64\\lib\\site-packages\\pandas\\core\\internals.py:552: DeprecationWarning: using a non-integer number instead of an integer will result in an error in the future\n",
        "  values = values[:, slicer]\n",
        "C:\\Users\\User\\Downloads\\WinPython-64bit-3.3.5.0\\python-3.3.5.amd64\\lib\\site-packages\\pandas\\core\\index.py:624: DeprecationWarning: using a non-integer number instead of an integer will result in an error in the future\n",
        "  result = arr_idx[key]\n",
        "C:\\Users\\User\\Downloads\\WinPython-64bit-3.3.5.0\\python-3.3.5.amd64\\lib\\site-packages\\pandas\\core\\index.py:624: DeprecationWarning: using a non-integer number instead of an integer will result in an error in the future\n",
        "  result = arr_idx[key]\n",
        "C:\\Users\\User\\Downloads\\WinPython-64bit-3.3.5.0\\python-3.3.5.amd64\\lib\\site-packages\\pandas\\core\\internals.py:552: DeprecationWarning: using a non-integer number instead of an integer will result in an error in the future\n",
        "  values = values[:, slicer]\n"
       ]
      },
      {
       "output_type": "stream",
       "stream": "stderr",
       "text": [
        "C:\\Users\\User\\Downloads\\WinPython-64bit-3.3.5.0\\python-3.3.5.amd64\\lib\\site-packages\\pandas\\core\\internals.py:552: DeprecationWarning: using a non-integer number instead of an integer will result in an error in the future\n",
        "  values = values[:, slicer]\n",
        "C:\\Users\\User\\Downloads\\WinPython-64bit-3.3.5.0\\python-3.3.5.amd64\\lib\\site-packages\\pandas\\core\\internals.py:552: DeprecationWarning: using a non-integer number instead of an integer will result in an error in the future\n",
        "  values = values[:, slicer]\n",
        "C:\\Users\\User\\Downloads\\WinPython-64bit-3.3.5.0\\python-3.3.5.amd64\\lib\\site-packages\\pandas\\core\\internals.py:552: DeprecationWarning: using a non-integer number instead of an integer will result in an error in the future\n",
        "  values = values[:, slicer]\n",
        "C:\\Users\\User\\Downloads\\WinPython-64bit-3.3.5.0\\python-3.3.5.amd64\\lib\\site-packages\\pandas\\core\\internals.py:552: DeprecationWarning: using a non-integer number instead of an integer will result in an error in the future\n",
        "  values = values[:, slicer]\n",
        "C:\\Users\\User\\Downloads\\WinPython-64bit-3.3.5.0\\python-3.3.5.amd64\\lib\\site-packages\\pandas\\core\\internals.py:552: DeprecationWarning: using a non-integer number instead of an integer will result in an error in the future\n",
        "  values = values[:, slicer]\n",
        "C:\\Users\\User\\Downloads\\WinPython-64bit-3.3.5.0\\python-3.3.5.amd64\\lib\\site-packages\\pandas\\core\\index.py:624: DeprecationWarning: using a non-integer number instead of an integer will result in an error in the future\n",
        "  result = arr_idx[key]\n",
        "C:\\Users\\User\\Downloads\\WinPython-64bit-3.3.5.0\\python-3.3.5.amd64\\lib\\site-packages\\pandas\\core\\index.py:624: DeprecationWarning: using a non-integer number instead of an integer will result in an error in the future\n",
        "  result = arr_idx[key]\n",
        "C:\\Users\\User\\Downloads\\WinPython-64bit-3.3.5.0\\python-3.3.5.amd64\\lib\\site-packages\\pandas\\core\\internals.py:552: DeprecationWarning: using a non-integer number instead of an integer will result in an error in the future\n",
        "  values = values[:, slicer]\n"
       ]
      },
      {
       "output_type": "stream",
       "stream": "stderr",
       "text": [
        "C:\\Users\\User\\Downloads\\WinPython-64bit-3.3.5.0\\python-3.3.5.amd64\\lib\\site-packages\\pandas\\core\\internals.py:552: DeprecationWarning: using a non-integer number instead of an integer will result in an error in the future\n",
        "  values = values[:, slicer]\n",
        "C:\\Users\\User\\Downloads\\WinPython-64bit-3.3.5.0\\python-3.3.5.amd64\\lib\\site-packages\\pandas\\core\\internals.py:552: DeprecationWarning: using a non-integer number instead of an integer will result in an error in the future\n",
        "  values = values[:, slicer]\n",
        "C:\\Users\\User\\Downloads\\WinPython-64bit-3.3.5.0\\python-3.3.5.amd64\\lib\\site-packages\\pandas\\core\\internals.py:552: DeprecationWarning: using a non-integer number instead of an integer will result in an error in the future\n",
        "  values = values[:, slicer]\n",
        "C:\\Users\\User\\Downloads\\WinPython-64bit-3.3.5.0\\python-3.3.5.amd64\\lib\\site-packages\\pandas\\core\\internals.py:552: DeprecationWarning: using a non-integer number instead of an integer will result in an error in the future\n",
        "  values = values[:, slicer]\n",
        "C:\\Users\\User\\Downloads\\WinPython-64bit-3.3.5.0\\python-3.3.5.amd64\\lib\\site-packages\\pandas\\core\\internals.py:552: DeprecationWarning: using a non-integer number instead of an integer will result in an error in the future\n",
        "  values = values[:, slicer]\n",
        "C:\\Users\\User\\Downloads\\WinPython-64bit-3.3.5.0\\python-3.3.5.amd64\\lib\\site-packages\\pandas\\core\\index.py:624: DeprecationWarning: using a non-integer number instead of an integer will result in an error in the future\n",
        "  result = arr_idx[key]\n",
        "C:\\Users\\User\\Downloads\\WinPython-64bit-3.3.5.0\\python-3.3.5.amd64\\lib\\site-packages\\pandas\\core\\index.py:624: DeprecationWarning: using a non-integer number instead of an integer will result in an error in the future\n",
        "  result = arr_idx[key]\n",
        "C:\\Users\\User\\Downloads\\WinPython-64bit-3.3.5.0\\python-3.3.5.amd64\\lib\\site-packages\\pandas\\core\\internals.py:552: DeprecationWarning: using a non-integer number instead of an integer will result in an error in the future\n",
        "  values = values[:, slicer]\n"
       ]
      },
      {
       "output_type": "stream",
       "stream": "stderr",
       "text": [
        "C:\\Users\\User\\Downloads\\WinPython-64bit-3.3.5.0\\python-3.3.5.amd64\\lib\\site-packages\\pandas\\core\\internals.py:552: DeprecationWarning: using a non-integer number instead of an integer will result in an error in the future\n",
        "  values = values[:, slicer]\n",
        "C:\\Users\\User\\Downloads\\WinPython-64bit-3.3.5.0\\python-3.3.5.amd64\\lib\\site-packages\\pandas\\core\\internals.py:552: DeprecationWarning: using a non-integer number instead of an integer will result in an error in the future\n",
        "  values = values[:, slicer]\n",
        "C:\\Users\\User\\Downloads\\WinPython-64bit-3.3.5.0\\python-3.3.5.amd64\\lib\\site-packages\\pandas\\core\\internals.py:552: DeprecationWarning: using a non-integer number instead of an integer will result in an error in the future\n",
        "  values = values[:, slicer]\n",
        "C:\\Users\\User\\Downloads\\WinPython-64bit-3.3.5.0\\python-3.3.5.amd64\\lib\\site-packages\\pandas\\core\\internals.py:552: DeprecationWarning: using a non-integer number instead of an integer will result in an error in the future\n",
        "  values = values[:, slicer]\n",
        "C:\\Users\\User\\Downloads\\WinPython-64bit-3.3.5.0\\python-3.3.5.amd64\\lib\\site-packages\\pandas\\core\\internals.py:552: DeprecationWarning: using a non-integer number instead of an integer will result in an error in the future\n",
        "  values = values[:, slicer]\n",
        "C:\\Users\\User\\Downloads\\WinPython-64bit-3.3.5.0\\python-3.3.5.amd64\\lib\\site-packages\\pandas\\core\\index.py:624: DeprecationWarning: using a non-integer number instead of an integer will result in an error in the future\n",
        "  result = arr_idx[key]\n",
        "C:\\Users\\User\\Downloads\\WinPython-64bit-3.3.5.0\\python-3.3.5.amd64\\lib\\site-packages\\pandas\\core\\index.py:624: DeprecationWarning: using a non-integer number instead of an integer will result in an error in the future\n",
        "  result = arr_idx[key]\n",
        "C:\\Users\\User\\Downloads\\WinPython-64bit-3.3.5.0\\python-3.3.5.amd64\\lib\\site-packages\\pandas\\core\\internals.py:552: DeprecationWarning: using a non-integer number instead of an integer will result in an error in the future\n",
        "  values = values[:, slicer]\n"
       ]
      },
      {
       "output_type": "stream",
       "stream": "stderr",
       "text": [
        "C:\\Users\\User\\Downloads\\WinPython-64bit-3.3.5.0\\python-3.3.5.amd64\\lib\\site-packages\\pandas\\core\\internals.py:552: DeprecationWarning: using a non-integer number instead of an integer will result in an error in the future\n",
        "  values = values[:, slicer]\n",
        "C:\\Users\\User\\Downloads\\WinPython-64bit-3.3.5.0\\python-3.3.5.amd64\\lib\\site-packages\\pandas\\core\\internals.py:552: DeprecationWarning: using a non-integer number instead of an integer will result in an error in the future\n",
        "  values = values[:, slicer]\n",
        "C:\\Users\\User\\Downloads\\WinPython-64bit-3.3.5.0\\python-3.3.5.amd64\\lib\\site-packages\\pandas\\core\\internals.py:552: DeprecationWarning: using a non-integer number instead of an integer will result in an error in the future\n",
        "  values = values[:, slicer]\n",
        "C:\\Users\\User\\Downloads\\WinPython-64bit-3.3.5.0\\python-3.3.5.amd64\\lib\\site-packages\\pandas\\core\\internals.py:552: DeprecationWarning: using a non-integer number instead of an integer will result in an error in the future\n",
        "  values = values[:, slicer]\n",
        "C:\\Users\\User\\Downloads\\WinPython-64bit-3.3.5.0\\python-3.3.5.amd64\\lib\\site-packages\\pandas\\core\\internals.py:552: DeprecationWarning: using a non-integer number instead of an integer will result in an error in the future\n",
        "  values = values[:, slicer]\n",
        "C:\\Users\\User\\Downloads\\WinPython-64bit-3.3.5.0\\python-3.3.5.amd64\\lib\\site-packages\\pandas\\core\\index.py:624: DeprecationWarning: using a non-integer number instead of an integer will result in an error in the future\n",
        "  result = arr_idx[key]\n",
        "C:\\Users\\User\\Downloads\\WinPython-64bit-3.3.5.0\\python-3.3.5.amd64\\lib\\site-packages\\pandas\\core\\index.py:624: DeprecationWarning: using a non-integer number instead of an integer will result in an error in the future\n",
        "  result = arr_idx[key]\n",
        "C:\\Users\\User\\Downloads\\WinPython-64bit-3.3.5.0\\python-3.3.5.amd64\\lib\\site-packages\\pandas\\core\\internals.py:552: DeprecationWarning: using a non-integer number instead of an integer will result in an error in the future\n",
        "  values = values[:, slicer]\n"
       ]
      },
      {
       "output_type": "stream",
       "stream": "stderr",
       "text": [
        "C:\\Users\\User\\Downloads\\WinPython-64bit-3.3.5.0\\python-3.3.5.amd64\\lib\\site-packages\\pandas\\core\\internals.py:552: DeprecationWarning: using a non-integer number instead of an integer will result in an error in the future\n",
        "  values = values[:, slicer]\n",
        "C:\\Users\\User\\Downloads\\WinPython-64bit-3.3.5.0\\python-3.3.5.amd64\\lib\\site-packages\\pandas\\core\\internals.py:552: DeprecationWarning: using a non-integer number instead of an integer will result in an error in the future\n",
        "  values = values[:, slicer]\n",
        "C:\\Users\\User\\Downloads\\WinPython-64bit-3.3.5.0\\python-3.3.5.amd64\\lib\\site-packages\\pandas\\core\\index.py:624: DeprecationWarning: using a non-integer number instead of an integer will result in an error in the future\n",
        "  result = arr_idx[key]\n"
       ]
      }
     ],
     "prompt_number": 19
    }
   ],
   "metadata": {}
  }
 ]
}