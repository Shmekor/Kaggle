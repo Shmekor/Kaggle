{
 "metadata": {
  "name": "",
  "signature": "sha256:4c44236b574fdad6e5d7442234642b37dd31b3416d9dbf205da912a43473c6b5"
 },
 "nbformat": 3,
 "nbformat_minor": 0,
 "worksheets": [
  {
   "cells": [
    {
     "cell_type": "code",
     "collapsed": false,
     "input": [
      "import sys\n",
      "sys.path.append('/Users/konstantingatilin/Documents/Workspace/Libs/Python/xgboost/python')\n",
      "import xgboost as xgb\n",
      "import numpy as np\n",
      "import pandas as pnd\n",
      "from sklearn import cross_validation as cv\n",
      "import math"
     ],
     "language": "python",
     "metadata": {},
     "outputs": [],
     "prompt_number": 140
    },
    {
     "cell_type": "code",
     "collapsed": false,
     "input": [
      "def AMS(s,b):\n",
      "    assert s >= 0\n",
      "    assert b >= 0\n",
      "    bReg = 10.\n",
      "    return math.sqrt(2 * ((s + b + bReg) * \n",
      "                          math.log(1 + s / (b + bReg)) - s))"
     ],
     "language": "python",
     "metadata": {},
     "outputs": [],
     "prompt_number": 138
    },
    {
     "cell_type": "code",
     "collapsed": false,
     "input": [
      "testSize = 550000\n",
      "\n",
      "fullDataTrain = pnd.read_csv('../training.csv')\n",
      "#trainFeatures = fullDataTrain.drop(['EventId'], axis=1)\n",
      "fullDataTrain.Label = fullDataTrain.Label.map({'b': 0, 's': 1})\n",
      "fullDataTrain.WeightN = fullDataTrain.Weight * float(testSize) / len(fullDataTrain)"
     ],
     "language": "python",
     "metadata": {},
     "outputs": [],
     "prompt_number": 284
    },
    {
     "cell_type": "code",
     "collapsed": false,
     "input": [
      "sumWPos = np.sum(fullDataTrain[fullDataTrain.Label == 1].Weight)\n",
      "sumWNeg = np.sum(fullDataTrain[fullDataTrain.Label == 0].Weight)\n",
      "print ('weight statistics: wpos=%g, wneg=%g, ratio=%g' % ( sumWPos, sumWNeg, sumWNeg/sumWPos ))"
     ],
     "language": "python",
     "metadata": {},
     "outputs": [
      {
       "output_type": "stream",
       "stream": "stdout",
       "text": [
        "weight statistics: wpos=691.989, wneg=411000, ratio=593.94\n"
       ]
      }
     ],
     "prompt_number": 188
    },
    {
     "cell_type": "code",
     "collapsed": false,
     "input": [
      "sMean = 0.008078\n",
      "bMean = 2.50102\n",
      "\n",
      "sCount = 46750\n",
      "bCount = 8250\n",
      "AMS(sMean * sCount, bMean * bCount)"
     ],
     "language": "python",
     "metadata": {},
     "outputs": [
      {
       "metadata": {},
       "output_type": "pyout",
       "prompt_number": 231,
       "text": [
        "2.620466082581178"
       ]
      }
     ],
     "prompt_number": 231
    },
    {
     "cell_type": "code",
     "collapsed": false,
     "input": [
      "xgmat = xgb.DMatrix( fullDataTrain.drop(['Label', 'EventId', 'Weight'], axis=1).values, \n",
      "                    label=fullDataTrain.Label.values, \n",
      "                    missing = -999.0, \n",
      "                    weight=fullDataTrain.WeightN.values )"
     ],
     "language": "python",
     "metadata": {},
     "outputs": [],
     "prompt_number": 190
    },
    {
     "cell_type": "code",
     "collapsed": false,
     "input": [
      "# setup parameters for xgboost\n",
      "param = {}\n",
      "# use logistic regression loss, use raw prediction before logistic transformation\n",
      "# since we only need the rank\n",
      "param['objective'] = 'binary:logitraw'\n",
      "# scale weight of positive examples\n",
      "param['scale_pos_weight'] = sumWNeg/sumWPos\n",
      "param['bst:eta'] = 0.1 \n",
      "param['bst:max_depth'] = 6\n",
      "param['eval_metric'] = 'auc'\n",
      "param['silent'] = 1\n",
      "param['nthread'] = 4\n",
      "plst = list(param.items())+[('eval_metric', 'ams@0.15')]"
     ],
     "language": "python",
     "metadata": {},
     "outputs": [],
     "prompt_number": 191
    },
    {
     "cell_type": "code",
     "collapsed": false,
     "input": [
      "watchlist = [ (xgmat,'train') ]\n",
      "# boost 120 tres\n",
      "numRound = 300\n",
      "print ('loading data end, start to boost trees')\n",
      "bst = xgb.train( plst, xgmat, numRound, watchlist );"
     ],
     "language": "python",
     "metadata": {},
     "outputs": [
      {
       "output_type": "stream",
       "stream": "stdout",
       "text": [
        "loading data end, start to boost trees\n"
       ]
      }
     ],
     "prompt_number": 281
    },
    {
     "cell_type": "code",
     "collapsed": false,
     "input": [
      "bst.save_model('higgs.model')"
     ],
     "language": "python",
     "metadata": {},
     "outputs": [],
     "prompt_number": 282
    },
    {
     "cell_type": "code",
     "collapsed": false,
     "input": [
      "def predictOnDS(ds, model, th):\n",
      "    dm = xgb.DMatrix(ds, missing = -999.0)\n",
      "    pr = model.predict( dm )\n",
      "    \n",
      "    #print('ds length: %g, predict length: %g' % (len(ds), len(pr)))\n",
      "    \n",
      "    res = pnd.DataFrame()\n",
      "    res['Index'] = np.r_[1:len(ds)+1]\n",
      "    res['Predicted'] = pr\n",
      "    res['Class'] = 'b'\n",
      "    res = res.sort('Predicted', ascending=0)\n",
      "    res['RankOrder'] = np.r_[1:len(res)+1]\n",
      "    \n",
      "    lastS = int( th * len(res) ) + 1\n",
      "    #print('th: %g' % lastS)\n",
      "    res.iloc[:lastS,:].Class = 's'\n",
      "    res = res.sort('Index')\n",
      "    \n",
      "    return res"
     ],
     "language": "python",
     "metadata": {},
     "outputs": [],
     "prompt_number": 298
    },
    {
     "cell_type": "code",
     "collapsed": false,
     "input": [
      "def getStats(dsTest,bst,th):\n",
      "    pr = predictOnDS(dsTest.drop(['Label', 'EventId', 'Weight'], axis=1).values, bst, th)\n",
      "    dsTest['Predicted'] = pr.Class.values\n",
      "    #print('dsTest len: %g' % len(dsTest))\n",
      "    #print('prS: %g, prB: %g' % (len(pr[pr.Class == 's']), len(pr[pr.Class == 'b'])))\n",
      "    #print('S: %g, B: %g, total: %g' % (len(dsTest[dsTest.Predicted == 's']), len(dsTest[dsTest.Predicted == 'b']), len(dsTest.Predicted)))\n",
      "    dsTestS = dsTest[dsTest.Predicted == 's']\n",
      "    wPos = np.sum(dsTestS[dsTestS.Label == 1].Weight)\n",
      "    wNeg = np.sum(dsTestS[dsTestS.Label == 0].Weight)\n",
      "    \n",
      "    realPos = len(dsTest[dsTest.Label == 1])\n",
      "    truePos = len(dsTestS[dsTestS.Label == 1])\n",
      "    trueNeg = len(dsTest[(dsTest.Label == 0) & (dsTest.Predicted == 'b')])\n",
      "    #print('Score: %g (tp: %g, tn: %g, realP: %g, totalLen: %g)' % ((truePos + trueNeg) / len(dsTest), truePos, trueNeg, realPos, len(dsTest)))\n",
      "    #print ('weight statistics: wpos=%g, wneg=%g, ratio=%g' % ( wPos, wNeg, wNeg/wPos ))\n",
      "    a = AMS(wPos, wNeg)\n",
      "    #print('AMS: %g' % a)\n",
      "    #print('============================================')\n",
      "    \n",
      "    return a"
     ],
     "language": "python",
     "metadata": {},
     "outputs": [],
     "prompt_number": 299
    },
    {
     "cell_type": "code",
     "collapsed": false,
     "input": [
      "cvFolds = cv.KFold(len(fullDataTrain), n_folds=2, shuffle=True)\n",
      "for trainIndex, testIndex in cvFolds:\n",
      "    dsTest = fullDataTrain.iloc[testIndex,:] \n",
      "    getStats(dsTest,bst,0.15)\n",
      "    "
     ],
     "language": "python",
     "metadata": {},
     "outputs": [
      {
       "output_type": "stream",
       "stream": "stdout",
       "text": [
        "ds length: 125000, predict length: 125000\n",
        "th: 18751"
       ]
      },
      {
       "output_type": "stream",
       "stream": "stdout",
       "text": [
        "\n",
        "dsTest len: 125000"
       ]
      },
      {
       "output_type": "stream",
       "stream": "stdout",
       "text": [
        "\n",
        "prS: 18751, prB: 106249\n",
        "S: 18751, B: 106249, total: 125000"
       ]
      },
      {
       "output_type": "stream",
       "stream": "stdout",
       "text": [
        "\n",
        "Score: 0.783912 (tp: 17375, tn: 80614, realP: 43010, totalLen: 125000)"
       ]
      },
      {
       "output_type": "stream",
       "stream": "stdout",
       "text": [
        "\n",
        "weight statistics: wpos=116.872, wneg=1343.1, ratio=11.492\n",
        "AMS: 3.13306\n",
        "============================================\n",
        "ds length: 125000, predict length: 125000"
       ]
      },
      {
       "output_type": "stream",
       "stream": "stdout",
       "text": [
        "\n",
        "th: 18751\n",
        "dsTest len: 125000"
       ]
      },
      {
       "output_type": "stream",
       "stream": "stdout",
       "text": [
        "\n",
        "prS: 18751, prB: 106249\n",
        "S: 18751, B: 106249, total: 125000"
       ]
      },
      {
       "output_type": "stream",
       "stream": "stdout",
       "text": [
        "\n",
        "Score: 0.786208 (tp: 17342, tn: 80934, realP: 42657, totalLen: 125000)"
       ]
      },
      {
       "output_type": "stream",
       "stream": "stdout",
       "text": [
        "\n",
        "weight statistics: wpos=118.75, wneg=1324.63, ratio=11.1547\n",
        "AMS: 3.20403\n",
        "============================================\n"
       ]
      }
     ],
     "prompt_number": 285
    },
    {
     "cell_type": "code",
     "collapsed": false,
     "input": [
      "getStats(fullDataTrain.copy(),bst,0.07)\n",
      "#fullDataTrain.info()"
     ],
     "language": "python",
     "metadata": {},
     "outputs": [
      {
       "output_type": "stream",
       "stream": "stdout",
       "text": [
        "ds length: 250000, predict length: 250000\n",
        "th: 17501"
       ]
      },
      {
       "output_type": "stream",
       "stream": "stdout",
       "text": [
        "\n",
        "dsTest len: 250000"
       ]
      },
      {
       "output_type": "stream",
       "stream": "stdout",
       "text": [
        "\n",
        "prS: 17501, prB: 232499"
       ]
      },
      {
       "output_type": "stream",
       "stream": "stdout",
       "text": [
        "\n",
        "S: 17501, B: 232499, total: 250000"
       ]
      },
      {
       "output_type": "stream",
       "stream": "stdout",
       "text": [
        "\n",
        "Score: 0.723112 (tp: 16973, tn: 163805, realP: 85667, totalLen: 250000)"
       ]
      },
      {
       "output_type": "stream",
       "stream": "stdout",
       "text": [
        "\n",
        "weight statistics: wpos=82.0783, wneg=313.419, ratio=3.81853\n",
        "AMS: 4.3889\n",
        "============================================\n"
       ]
      }
     ],
     "prompt_number": 295
    },
    {
     "cell_type": "code",
     "collapsed": false,
     "input": [
      "thImp = 0.07\n",
      "bestAms = 0;\n",
      "bestTh = thImp;\n",
      "while (thImp <= 0.20):\n",
      "    a = getStats(fullDataTrain.copy(),bst,thImp)\n",
      "    if(a > bestAms):\n",
      "        bestAms = a\n",
      "        bestTh = thImp\n",
      "        print('AMS improved to: %g, th: %g' % (bestAms, bestTh))\n",
      "    thImp += 0.001\n",
      "    \n",
      "print(bestAms, bestTh)"
     ],
     "language": "python",
     "metadata": {},
     "outputs": [
      {
       "output_type": "stream",
       "stream": "stdout",
       "text": [
        "AMS improved to: 4.3889, th: 0.07\n",
        "AMS improved to: 4.40245, th: 0.08"
       ]
      },
      {
       "output_type": "stream",
       "stream": "stdout",
       "text": [
        "\n",
        "AMS improved to: 4.41981, th: 0.081"
       ]
      },
      {
       "output_type": "stream",
       "stream": "stdout",
       "text": [
        "\n",
        "AMS improved to: 4.43494, th: 0.087"
       ]
      },
      {
       "output_type": "stream",
       "stream": "stdout",
       "text": [
        "\n",
        "AMS improved to: 4.458, th: 0.088"
       ]
      },
      {
       "output_type": "stream",
       "stream": "stdout",
       "text": [
        "\n",
        "AMS improved to: 4.4759, th: 0.089"
       ]
      },
      {
       "output_type": "stream",
       "stream": "stdout",
       "text": [
        "\n",
        "AMS improved to: 4.50022, th: 0.09"
       ]
      },
      {
       "output_type": "stream",
       "stream": "stdout",
       "text": [
        "\n",
        "AMS improved to: 4.50237, th: 0.091"
       ]
      },
      {
       "output_type": "stream",
       "stream": "stdout",
       "text": [
        "\n",
        "AMS improved to: 4.52629, th: 0.094"
       ]
      },
      {
       "output_type": "stream",
       "stream": "stdout",
       "text": [
        "\n",
        "AMS improved to: 4.54086, th: 0.1"
       ]
      },
      {
       "output_type": "stream",
       "stream": "stdout",
       "text": [
        "\n",
        "AMS improved to: 4.55652, th: 0.101"
       ]
      },
      {
       "output_type": "stream",
       "stream": "stdout",
       "text": [
        "\n",
        "AMS improved to: 4.57907, th: 0.102"
       ]
      },
      {
       "output_type": "stream",
       "stream": "stdout",
       "text": [
        "\n",
        "AMS improved to: 4.61445, th: 0.103"
       ]
      },
      {
       "output_type": "stream",
       "stream": "stdout",
       "text": [
        "\n",
        "AMS improved to: 4.62994, th: 0.107"
       ]
      },
      {
       "output_type": "stream",
       "stream": "stdout",
       "text": [
        "\n",
        "4.629937315838721"
       ]
      },
      {
       "output_type": "stream",
       "stream": "stdout",
       "text": [
        " 0.10700000000000004\n"
       ]
      }
     ],
     "prompt_number": 300
    },
    {
     "cell_type": "code",
     "collapsed": false,
     "input": [
      "# make top 15% as positive \n",
      "threshold_ratio = 0.107"
     ],
     "language": "python",
     "metadata": {},
     "outputs": [],
     "prompt_number": 301
    },
    {
     "cell_type": "code",
     "collapsed": false,
     "input": [
      "kaggleTest = pnd.read_csv('../test.csv')"
     ],
     "language": "python",
     "metadata": {},
     "outputs": [],
     "prompt_number": 288
    },
    {
     "cell_type": "code",
     "collapsed": false,
     "input": [
      "dmKaggle = xgb.DMatrix(kaggleTest.drop('EventId', axis=1).values, missing = -999.0)\n",
      "kagglePred = bst.predict( dmKaggle )"
     ],
     "language": "python",
     "metadata": {},
     "outputs": [],
     "prompt_number": 302
    },
    {
     "cell_type": "code",
     "collapsed": false,
     "input": [
      "kagglePred"
     ],
     "language": "python",
     "metadata": {},
     "outputs": [
      {
       "metadata": {},
       "output_type": "pyout",
       "prompt_number": 303,
       "text": [
        "array([-6.27706003, -0.87925512,  0.76283324, ..., -4.14121532,\n",
        "        1.76732397, -0.79347712], dtype=float32)"
       ]
      }
     ],
     "prompt_number": 303
    },
    {
     "cell_type": "code",
     "collapsed": false,
     "input": [
      "kaggleRes = pnd.DataFrame()\n",
      "kaggleRes['EventId'] = kaggleTest['EventId']\n",
      "kaggleRes['Predicted'] = kagglePred\n",
      "kaggleRes = kaggleRes.sort('Predicted', ascending=0)\n",
      "kaggleRes['RankOrder'] = np.r_[1:len(kaggleRes)+1]\n",
      "kaggleRes['Class'] = 'b'\n",
      "\n",
      "lastS = int( threshold_ratio * len(kaggleRes) ) + 1\n",
      "kaggleRes.iloc[:lastS,:].Class = 's'\n",
      "kaggleRes = kaggleRes.sort('EventId')"
     ],
     "language": "python",
     "metadata": {},
     "outputs": [],
     "prompt_number": 304
    },
    {
     "cell_type": "code",
     "collapsed": false,
     "input": [
      "kaggleRes.drop('Predicted', axis=1).to_csv('xgboostSubmit.csv', index=False)"
     ],
     "language": "python",
     "metadata": {},
     "outputs": [],
     "prompt_number": 305
    },
    {
     "cell_type": "code",
     "collapsed": false,
     "input": [
      "trainDS, testDS = cv.train_test_split(trainFeatures, test_size=0.20)"
     ],
     "language": "python",
     "metadata": {},
     "outputs": [],
     "prompt_number": 29
    },
    {
     "cell_type": "code",
     "collapsed": false,
     "input": [
      "trainDS[:,30]"
     ],
     "language": "python",
     "metadata": {},
     "outputs": [
      {
       "ename": "IndexError",
       "evalue": "index 31 is out of bounds for axis 1 with size 31",
       "output_type": "pyerr",
       "traceback": [
        "\u001b[0;31m---------------------------------------------------------------------------\u001b[0m\n\u001b[0;31mIndexError\u001b[0m                                Traceback (most recent call last)",
        "\u001b[0;32m<ipython-input-38-a62bddd46f6e>\u001b[0m in \u001b[0;36m<module>\u001b[0;34m()\u001b[0m\n\u001b[0;32m----> 1\u001b[0;31m \u001b[0mtrainDS\u001b[0m\u001b[0;34m[\u001b[0m\u001b[0;34m:\u001b[0m\u001b[0;34m,\u001b[0m\u001b[0;36m31\u001b[0m\u001b[0;34m]\u001b[0m\u001b[0;34m\u001b[0m\u001b[0m\n\u001b[0m",
        "\u001b[0;31mIndexError\u001b[0m: index 31 is out of bounds for axis 1 with size 31"
       ]
      }
     ],
     "prompt_number": 38
    },
    {
     "cell_type": "code",
     "collapsed": false,
     "input": [
      "dmTrain = xgb.DMatrix(trainDS[:,:30], label=trainDS[:,30], missing = -999.0)"
     ],
     "language": "python",
     "metadata": {},
     "outputs": [],
     "prompt_number": 39
    },
    {
     "cell_type": "code",
     "collapsed": false,
     "input": [
      "dmTrain.save_binary(\"trainXG.bin\")"
     ],
     "language": "python",
     "metadata": {},
     "outputs": [],
     "prompt_number": 40
    },
    {
     "cell_type": "code",
     "collapsed": false,
     "input": [
      "dmTest = xgb.DMatrix(testDS[:,:30], label=testDS[:,30], missing = -999.0)\n",
      "dmTest.save_binary('testXG.bin')"
     ],
     "language": "python",
     "metadata": {},
     "outputs": [],
     "prompt_number": 41
    },
    {
     "cell_type": "code",
     "collapsed": false,
     "input": [
      "param = {'objective':'binary:logistic', 'bst:max_depth': 10}\n",
      "param['nthread'] = 4\n",
      "plst = param.items()"
     ],
     "language": "python",
     "metadata": {},
     "outputs": [],
     "prompt_number": 72
    },
    {
     "cell_type": "code",
     "collapsed": false,
     "input": [
      "evallist  = [(dmTest,'eval'), (dmTrain,'train')]"
     ],
     "language": "python",
     "metadata": {},
     "outputs": [],
     "prompt_number": 44
    },
    {
     "cell_type": "code",
     "collapsed": false,
     "input": [
      "bst = xgb.train( plst, dmTrain, 20, evallist )"
     ],
     "language": "python",
     "metadata": {},
     "outputs": [],
     "prompt_number": 73
    },
    {
     "cell_type": "code",
     "collapsed": false,
     "input": [
      "ypred = bst.predict( dmTest )\n"
     ],
     "language": "python",
     "metadata": {},
     "outputs": [],
     "prompt_number": 74
    },
    {
     "cell_type": "code",
     "collapsed": false,
     "input": [
      "print ('error=%f' % (  sum(1 for i in range(len(ypred)) if int(ypred[i]>0.5)!=testDS[i,30]) /float(len(ypred))))"
     ],
     "language": "python",
     "metadata": {},
     "outputs": [
      {
       "output_type": "stream",
       "stream": "stdout",
       "text": [
        "error=0.159700\n"
       ]
      }
     ],
     "prompt_number": 75
    },
    {
     "cell_type": "code",
     "collapsed": false,
     "input": [
      "kaggleTest = pnd.read_csv('../test.csv')\n",
      "kaggleFeatures = kaggleTest.drop(['EventId'], axis=1)"
     ],
     "language": "python",
     "metadata": {},
     "outputs": [],
     "prompt_number": 77
    },
    {
     "cell_type": "code",
     "collapsed": false,
     "input": [
      "dmKaggle = xgb.DMatrix(kaggleFeatures.values, missing = -999.0)\n",
      "kagglePred = bst.predict( dmKaggle )"
     ],
     "language": "python",
     "metadata": {},
     "outputs": [],
     "prompt_number": 78
    },
    {
     "cell_type": "code",
     "collapsed": false,
     "input": [
      "res = pnd.DataFrame()\n",
      "res['EventId'] = kaggleTest.EventId\n",
      "res['RankOrder'] = np.r_[1:len(kaggleTest)+1]\n",
      "res['Class'] = np.round(kagglePred)"
     ],
     "language": "python",
     "metadata": {},
     "outputs": [],
     "prompt_number": 81
    },
    {
     "cell_type": "code",
     "collapsed": false,
     "input": [
      "res['Class'] = res['Class'].map({0:'b', 1: 's'})"
     ],
     "language": "python",
     "metadata": {},
     "outputs": [],
     "prompt_number": 82
    },
    {
     "cell_type": "code",
     "collapsed": false,
     "input": [
      "res.to_csv('xgboostSubmit.csv', index=False)"
     ],
     "language": "python",
     "metadata": {},
     "outputs": [],
     "prompt_number": 83
    },
    {
     "cell_type": "code",
     "collapsed": false,
     "input": [],
     "language": "python",
     "metadata": {},
     "outputs": []
    }
   ],
   "metadata": {}
  }
 ]
}