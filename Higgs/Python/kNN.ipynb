{
 "metadata": {
  "name": "",
  "signature": "sha256:fb5803a8f189a04216ac9d4873f910befd2d284ed5e17d0dc2cb68f03fa31654"
 },
 "nbformat": 3,
 "nbformat_minor": 0,
 "worksheets": [
  {
   "cells": [
    {
     "cell_type": "code",
     "collapsed": false,
     "input": [],
     "language": "python",
     "metadata": {},
     "outputs": []
    }
   ],
   "metadata": {}
  }
 ]
}