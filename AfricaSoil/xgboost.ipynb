{
 "metadata": {
  "name": "",
  "signature": "sha256:c7e079309e48dbe012e99119b8ffca26aa8a03e8a1cd5e156d37ec059f47ec58"
 },
 "nbformat": 3,
 "nbformat_minor": 0,
 "worksheets": [
  {
   "cells": [
    {
     "cell_type": "code",
     "collapsed": false,
     "input": [
      "import sys\n",
      "sys.path.append('/Users/konstantingatilin/Documents/Workspace/Libs/Python/xgboost/python')\n",
      "import xgboost as xgb\n",
      "import numpy as np\n",
      "import pandas as pnd"
     ],
     "language": "python",
     "metadata": {},
     "outputs": [],
     "prompt_number": 1
    },
    {
     "cell_type": "code",
     "collapsed": false,
     "input": [
      "trainDS = pnd.read_csv('data/trainingDer.csv')\n",
      "testDS = pnd.read_csv('data/testDer.csv')\n",
      "kaggleDS = pnd.read_csv('data/kaggleDer.csv')"
     ],
     "language": "python",
     "metadata": {},
     "outputs": [],
     "prompt_number": 5
    },
    {
     "cell_type": "code",
     "collapsed": false,
     "input": [
      "xgmatCa = xgb.DMatrix( trainDS.drop(['PIDN', 'Depth'], axis=1).values, label=trainDS.Ca.values)\n",
      "xgmatP = xgb.DMatrix( trainDS.drop(['PIDN', 'Depth'], axis=1).values, label=trainDS.P.values)"
     ],
     "language": "python",
     "metadata": {},
     "outputs": [],
     "prompt_number": 18
    },
    {
     "cell_type": "code",
     "collapsed": false,
     "input": [
      "# setup parameters for xgboost\n",
      "param = {}\n",
      "# use logistic regression loss, use raw prediction before logistic transformation\n",
      "# since we only need the rank\n",
      "param['objective'] = 'reg:linear'\n",
      "# scale weight of positive examples\n",
      "#param['scale_pos_weight'] = sumWNeg/sumWPos\n",
      "param['bst:eta'] = 0.1 \n",
      "param['bst:max_depth'] = 10\n",
      "param['eval_metric'] = 'rmse'\n",
      "param['silent'] = 1\n",
      "param['nthread'] = 4\n",
      "plst = list(param.items())#+[('eval_metric', 'ams@0.15')]"
     ],
     "language": "python",
     "metadata": {},
     "outputs": [],
     "prompt_number": 9
    },
    {
     "cell_type": "code",
     "collapsed": false,
     "input": [
      "watchlist = [ (xgmatP,'train') ]\n",
      "# boost 120 tres\n",
      "numRound = 120\n",
      "bst = xgb.train( plst, xgmatP, numRound, watchlist );"
     ],
     "language": "python",
     "metadata": {},
     "outputs": [],
     "prompt_number": 24
    },
    {
     "cell_type": "code",
     "collapsed": false,
     "input": [
      "testXgmatCa = xgb.DMatrix( testDS.drop(['PIDN', 'Depth'], axis=1).values, label=testDS.Ca.values)\n",
      "testXgmatP = xgb.DMatrix( testDS.drop(['PIDN', 'Depth'], axis=1).values, label=testDS.P.values)"
     ],
     "language": "python",
     "metadata": {},
     "outputs": [],
     "prompt_number": 20
    },
    {
     "cell_type": "code",
     "collapsed": false,
     "input": [
      "testPredCa = bst.predict(testXgmatCa)"
     ],
     "language": "python",
     "metadata": {},
     "outputs": [],
     "prompt_number": 14
    },
    {
     "cell_type": "code",
     "collapsed": false,
     "input": [
      "from sklearn.metrics import mean_squared_error\n",
      "from math import sqrt\n",
      "\n",
      "rms = sqrt(mean_squared_error(testDS.Ca, testPredCa))"
     ],
     "language": "python",
     "metadata": {},
     "outputs": [],
     "prompt_number": 15
    },
    {
     "cell_type": "code",
     "collapsed": false,
     "input": [
      "rms"
     ],
     "language": "python",
     "metadata": {},
     "outputs": [
      {
       "metadata": {},
       "output_type": "pyout",
       "prompt_number": 22,
       "text": [
        "0.025320719269402134"
       ]
      }
     ],
     "prompt_number": 22
    },
    {
     "cell_type": "code",
     "collapsed": false,
     "input": [
      "trainPredCa = bst.predict(xgmatCa)\n",
      "rms = sqrt(mean_squared_error(trainDS.Ca, trainPredCa))\n",
      "print(rms)"
     ],
     "language": "python",
     "metadata": {},
     "outputs": [
      {
       "output_type": "stream",
       "stream": "stdout",
       "text": [
        "0.0011856497574573098\n"
       ]
      }
     ],
     "prompt_number": 17
    },
    {
     "cell_type": "code",
     "collapsed": false,
     "input": [
      "testPredP = bst.predict(testXgmatP)\n",
      "rms = sqrt(mean_squared_error(testDS.P, testPredP))\n",
      "print(rms)"
     ],
     "language": "python",
     "metadata": {},
     "outputs": [
      {
       "output_type": "stream",
       "stream": "stdout",
       "text": [
        "0.025339959638236938\n"
       ]
      }
     ],
     "prompt_number": 25
    },
    {
     "cell_type": "code",
     "collapsed": false,
     "input": [
      "np.sum(pow(testDS.P, 2) - pow(testPredP, 2))"
     ],
     "language": "python",
     "metadata": {},
     "outputs": [
      {
       "metadata": {},
       "output_type": "pyout",
       "prompt_number": 32,
       "text": [
        "2.9649846629661067"
       ]
      }
     ],
     "prompt_number": 32
    },
    {
     "cell_type": "code",
     "collapsed": false,
     "input": [
      "mean_squared_error(testPredP, testDS.P)"
     ],
     "language": "python",
     "metadata": {},
     "outputs": [
      {
       "metadata": {},
       "output_type": "pyout",
       "prompt_number": 35,
       "text": [
        "0.00064211355446747707"
       ]
      }
     ],
     "prompt_number": 35
    }
   ],
   "metadata": {}
  }
 ]
}